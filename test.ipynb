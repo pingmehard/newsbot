{
 "cells": [
  {
   "cell_type": "code",
   "execution_count": 1,
   "metadata": {},
   "outputs": [
    {
     "data": {
      "text/plain": [
       "' Как в итоге работает решение?\\n\\n1. Я обучаю каждый раз модели логрега на основе идентификатора пользователя. Это можно делать ночью. Нужно ли это делать каждый раз? Да, так как новости меняются. Исследовать.\\n2. На выходе полученной функции я получаю словарь моделей, который можно переиспользовать в боте, как часть алгоритма получения валидации новости для каждого пользователя.\\n3. Если аппроксимируемый класс модели == 1, то новость выводить, она положительная. Если == 0, то не выводить, так как она отрицальная. \\n4. Нужно мониторить результат обучения модели. Возомжно стоит определить, когда модели нужно начинать обучаться. Спустя какое количество классов?\\n\\n'"
      ]
     },
     "execution_count": 1,
     "metadata": {},
     "output_type": "execute_result"
    }
   ],
   "source": [
    "# Предусмотреть возможность перераспределения классов. Так как классов может быть равное количество, не будет необходимости обучать несколько моделей.\n",
    "# При этом важно отметить, что может быть наборот. Какой-то из классов имеет меньший обхем и это нужно определять.\n",
    "\n",
    "# Нужны ограничения на количество обучаемых моделей. Если отношение слишком велико? Может ли быть такое?\n",
    "\n",
    "''' Как в итоге работает решение?\n",
    "\n",
    "1. Я обучаю каждый раз модели логрега на основе идентификатора пользователя. Это можно делать ночью. Нужно ли это делать каждый раз? Да, так как новости меняются. Исследовать.\n",
    "2. На выходе полученной функции я получаю словарь моделей, который можно переиспользовать в боте, как часть алгоритма получения валидации новости для каждого пользователя.\n",
    "3. Если аппроксимируемый класс модели == 1, то новость выводить, она положительная. Если == 0, то не выводить, так как она отрицальная. \n",
    "4. Нужно мониторить результат обучения модели. Возомжно стоит определить, когда модели нужно начинать обучаться. Спустя какое количество классов?\n",
    "\n",
    "'''"
   ]
  },
  {
   "cell_type": "code",
   "execution_count": 2,
   "metadata": {},
   "outputs": [],
   "source": [
    "import json\n",
    "from ddl import cos_distance\n",
    "import numpy as np\n",
    "import os\n",
    "\n",
    "import pandas as pd"
   ]
  },
  {
   "cell_type": "code",
   "execution_count": 3,
   "metadata": {},
   "outputs": [],
   "source": [
    "from sklearn.model_selection import train_test_split\n",
    "from sklearn.linear_model import LogisticRegression\n",
    "from sklearn.model_selection import ShuffleSplit\n",
    "from sklearn.metrics import classification_report\n",
    "from sklearn.ensemble import RandomForestClassifier, VotingClassifier\n",
    "from sklearn.model_selection import KFold\n",
    "\n",
    "from collections import Counter"
   ]
  },
  {
   "cell_type": "code",
   "execution_count": 4,
   "metadata": {},
   "outputs": [],
   "source": [
    "import pickle"
   ]
  },
  {
   "cell_type": "code",
   "execution_count": 5,
   "metadata": {},
   "outputs": [],
   "source": [
    "user_id = 141587836\n",
    "sources = [\"rbc\", \"lenta\", \"ria\", \"habr\"]\n",
    "data_vectors = {}\n",
    "matching_cos_distance = []\n",
    "negative_samples = []\n",
    "potential_positive_samples = []"
   ]
  },
  {
   "cell_type": "code",
   "execution_count": 6,
   "metadata": {},
   "outputs": [],
   "source": [
    "# Загружаем все новости в оперативку\n",
    "for where_from in sources:\n",
    "    with open(f'./data/vectors/vectors_news_{where_from}.json', 'r') as f:\n",
    "        temp = json.load(f)\n",
    "        for i in temp:\n",
    "            data_vectors[i] = temp[i]"
   ]
  },
  {
   "cell_type": "code",
   "execution_count": 7,
   "metadata": {},
   "outputs": [
    {
     "name": "stdout",
     "output_type": "stream",
     "text": [
      "714 22767\n",
      "16000000\r"
     ]
    }
   ],
   "source": [
    "# def find_intersections(news_title, user_id, news_title_emb):\n",
    "\n",
    "# Открываем все реакции человека на новости\n",
    "\n",
    "with open(f'./data/users/{user_id}/embeddings_{user_id}.json', 'r') as f:\n",
    "    data = json.load(f)\n",
    "\n",
    "# Находим отличия от отрицальных новостей \n",
    "negative_set = [id for id in data.keys() if data[id]['target'] == '0']\n",
    "all_set = set(data_vectors.keys())\n",
    "not_negative_set = all_set ^ set(negative_set)\n",
    "\n",
    "print(len(negative_set), len(not_negative_set))\n",
    "\n",
    "# Сравнение потенциальных положительных новостей со всеми новостями, поиск самых близких негативных к ним\n",
    "c = 0\n",
    "for id in negative_set:\n",
    "    for id_all in not_negative_set:\n",
    "        matching_cos_distance.append(cos_distance(np.array(data_vectors[id]['news_embedding']), np.array(data_vectors[id_all]['news_embedding'])))\n",
    "        potential_positive_samples.append(id_all)\n",
    "\n",
    "        c += 1\n",
    "        if c % 1_000_000 == 0:\n",
    "            print(c, end = '\\r')\n"
   ]
  },
  {
   "cell_type": "code",
   "execution_count": 8,
   "metadata": {},
   "outputs": [],
   "source": [
    "# Определяем позитивные новости из существующей разметки пользователя\n",
    "positive_samples = []\n",
    "positive_set = [id for id in data.keys() if data[id]['target'] == '1']\n",
    "\n",
    "negative_list_std = []\n",
    "\n",
    "# Считаем отклонение для определения параметра отбора позитивных новостей, которые понравились\n",
    "matching_std = np.std(matching_cos_distance)\n",
    "matching_mean = np.mean(matching_cos_distance)\n",
    "\n",
    "# Ищем позитивные для человека новости, потенциально это все новости, что меньше (среднее по всем сравнениям + 1 стандартное отклонение)\n",
    "for item in zip(potential_positive_samples, matching_cos_distance):\n",
    "    if item[1] >= (matching_mean + 2 * matching_std):\n",
    "        negative_list_std.append(item[0])"
   ]
  },
  {
   "cell_type": "code",
   "execution_count": 9,
   "metadata": {},
   "outputs": [],
   "source": [
    "# Вычитаем из позитивных потенциальных негативные относительно стандартного отклонения\n",
    "positive_samples = set(potential_positive_samples) - set(negative_list_std)\n",
    "# Расширяем сет размеченных позитивных позитивными потенциально\n",
    "positive_set.extend(positive_samples)"
   ]
  },
  {
   "cell_type": "code",
   "execution_count": 10,
   "metadata": {},
   "outputs": [
    {
     "name": "stdout",
     "output_type": "stream",
     "text": [
      "4157\n",
      "5\n"
     ]
    }
   ],
   "source": [
    "# Сколько позитивных у нас получилось\n",
    "print(len(positive_set))\n",
    "# Проверяем, есть ли у нас пересечения между позитивными и негативными (не должно быть совсем)\n",
    "print(len(set(negative_list_std) & set(positive_set)))"
   ]
  },
  {
   "cell_type": "code",
   "execution_count": 11,
   "metadata": {},
   "outputs": [],
   "source": [
    "# Получаем эмбеддинги каждого позитивного и негативного случая\n",
    "positive_embeddings = []\n",
    "negative_embeddings = []\n",
    "\n",
    "for id in positive_set:\n",
    "    positive_embeddings.append(data_vectors[id]['news_embedding'])\n",
    "\n",
    "for id in set(negative_list_std):\n",
    "    negative_embeddings.append(data_vectors[id]['news_embedding'])"
   ]
  },
  {
   "cell_type": "code",
   "execution_count": 12,
   "metadata": {},
   "outputs": [],
   "source": [
    "# Превращаем в numpy все вектора позитивных и отрциательных новостей\n",
    "\n",
    "positive_embeddings_array = np.array(positive_embeddings)\n",
    "negative_embeddings_array = np.array(negative_embeddings)"
   ]
  },
  {
   "cell_type": "code",
   "execution_count": 13,
   "metadata": {},
   "outputs": [
    {
     "data": {
      "text/plain": [
       "((4157, 300), (18624, 300))"
      ]
     },
     "execution_count": 13,
     "metadata": {},
     "output_type": "execute_result"
    }
   ],
   "source": [
    "# Смотрим какой shape для каждого\n",
    "positive_embeddings_array.shape, negative_embeddings_array.shape"
   ]
  },
  {
   "cell_type": "code",
   "execution_count": 14,
   "metadata": {},
   "outputs": [],
   "source": [
    "# Заполняем 0 и 1 каждый из отрицательных и положительных новостей\n",
    "ones_array = np.ones((positive_embeddings_array.shape[0],1))\n",
    "zeros_array = np.zeros((negative_embeddings_array.shape[0],1))"
   ]
  },
  {
   "cell_type": "code",
   "execution_count": 15,
   "metadata": {},
   "outputs": [],
   "source": [
    "# Собираем все воедино в датасет\n",
    "a = np.hstack((positive_embeddings_array, ones_array))\n",
    "b = np.hstack((negative_embeddings_array, zeros_array))\n",
    "X_np = np.vstack((a, b))"
   ]
  },
  {
   "cell_type": "code",
   "execution_count": 16,
   "metadata": {},
   "outputs": [],
   "source": [
    "# Затем пытаемся обучить модель искать такие или относить к негативным все остальные новости"
   ]
  },
  {
   "cell_type": "code",
   "execution_count": 17,
   "metadata": {},
   "outputs": [],
   "source": [
    "X_df = pd.DataFrame(X_np).rename({300:'target'}, axis = 1)\n",
    "\n",
    "# Получаем количество сэмплов для разделения наибольшего класса\n",
    "\n",
    "n_splits = X_df['target'].value_counts()[0] // X_df['target'].value_counts()[1]\n",
    "\n",
    "X_df['splits'] = X_df.index % n_splits"
   ]
  },
  {
   "cell_type": "code",
   "execution_count": 18,
   "metadata": {},
   "outputs": [
    {
     "name": "stderr",
     "output_type": "stream",
     "text": [
      "c:\\Users\\roman\\anaconda3\\envs\\news\\lib\\site-packages\\sklearn\\utils\\validation.py:1858: FutureWarning: Feature names only support names that are all strings. Got feature names with dtypes: ['int', 'str']. An error will be raised in 1.2.\n",
      "  warnings.warn(\n",
      "[Parallel(n_jobs=-1)]: Using backend LokyBackend with 8 concurrent workers.\n",
      "[Parallel(n_jobs=-1)]: Done   1 out of   1 | elapsed:    4.8s finished\n",
      "c:\\Users\\roman\\anaconda3\\envs\\news\\lib\\site-packages\\sklearn\\utils\\validation.py:1858: FutureWarning: Feature names only support names that are all strings. Got feature names with dtypes: ['int', 'str']. An error will be raised in 1.2.\n",
      "  warnings.warn(\n",
      "c:\\Users\\roman\\anaconda3\\envs\\news\\lib\\site-packages\\sklearn\\utils\\validation.py:1858: FutureWarning: Feature names only support names that are all strings. Got feature names with dtypes: ['int', 'str']. An error will be raised in 1.2.\n",
      "  warnings.warn(\n",
      "[Parallel(n_jobs=-1)]: Using backend LokyBackend with 8 concurrent workers.\n"
     ]
    },
    {
     "name": "stdout",
     "output_type": "stream",
     "text": [
      "              precision    recall  f1-score   support\n",
      "\n",
      "         0.0       0.89      0.92      0.91       832\n",
      "         1.0       0.92      0.89      0.90       831\n",
      "\n",
      "    accuracy                           0.90      1663\n",
      "   macro avg       0.90      0.90      0.90      1663\n",
      "weighted avg       0.90      0.90      0.90      1663\n",
      "\n"
     ]
    },
    {
     "name": "stderr",
     "output_type": "stream",
     "text": [
      "[Parallel(n_jobs=-1)]: Done   1 out of   1 | elapsed:    2.7s finished\n",
      "c:\\Users\\roman\\anaconda3\\envs\\news\\lib\\site-packages\\sklearn\\utils\\validation.py:1858: FutureWarning: Feature names only support names that are all strings. Got feature names with dtypes: ['int', 'str']. An error will be raised in 1.2.\n",
      "  warnings.warn(\n",
      "c:\\Users\\roman\\anaconda3\\envs\\news\\lib\\site-packages\\sklearn\\utils\\validation.py:1858: FutureWarning: Feature names only support names that are all strings. Got feature names with dtypes: ['int', 'str']. An error will be raised in 1.2.\n",
      "  warnings.warn(\n",
      "[Parallel(n_jobs=-1)]: Using backend LokyBackend with 8 concurrent workers.\n"
     ]
    },
    {
     "name": "stdout",
     "output_type": "stream",
     "text": [
      "              precision    recall  f1-score   support\n",
      "\n",
      "         0.0       0.88      0.86      0.87       832\n",
      "         1.0       0.86      0.88      0.87       831\n",
      "\n",
      "    accuracy                           0.87      1663\n",
      "   macro avg       0.87      0.87      0.87      1663\n",
      "weighted avg       0.87      0.87      0.87      1663\n",
      "\n"
     ]
    },
    {
     "name": "stderr",
     "output_type": "stream",
     "text": [
      "[Parallel(n_jobs=-1)]: Done   1 out of   1 | elapsed:    3.3s finished\n"
     ]
    },
    {
     "name": "stdout",
     "output_type": "stream",
     "text": [
      "              precision    recall  f1-score   support\n",
      "\n",
      "         0.0       0.89      0.86      0.87       832\n",
      "         1.0       0.86      0.89      0.88       831\n",
      "\n",
      "    accuracy                           0.88      1663\n",
      "   macro avg       0.88      0.88      0.88      1663\n",
      "weighted avg       0.88      0.88      0.88      1663\n",
      "\n"
     ]
    },
    {
     "name": "stderr",
     "output_type": "stream",
     "text": [
      "c:\\Users\\roman\\anaconda3\\envs\\news\\lib\\site-packages\\sklearn\\utils\\validation.py:1858: FutureWarning: Feature names only support names that are all strings. Got feature names with dtypes: ['int', 'str']. An error will be raised in 1.2.\n",
      "  warnings.warn(\n"
     ]
    }
   ],
   "source": [
    "# Убираем дисбаланс, обучая на нескольких сэмплах несколько логистических регрессий\n",
    "dict_models = {}\n",
    "\n",
    "for i in range(n_splits - 1): # Оставляем последнюю часть для валидации\n",
    "    target_0 = X_df[(X_df['target'] == 0) & (X_df['splits'] == i)].sample(n = X_df['target'].value_counts()[1], axis = 0)\n",
    "    target_1 = X_df[X_df['target'] == 1]\n",
    "\n",
    "    target_sampled = pd.concat([target_0, target_1], axis = 0)\n",
    "\n",
    "    y = target_sampled['target']\n",
    "    X = target_sampled.drop('target', axis = 1)\n",
    "\n",
    "    X_train, X_test, y_train, y_test = train_test_split(X, y, test_size=0.2, random_state=42, stratify=y)\n",
    "\n",
    "    model = LogisticRegression(max_iter = 10000, verbose = 1, n_jobs = -1)\n",
    "    model.fit(X_train, y_train)\n",
    "    preds = model.predict(X_test)\n",
    "    print(classification_report(y_test, preds))\n",
    "\n",
    "    # Сохраняем в словарь для сохранения в pickle\n",
    "    dict_models[i] = model\n",
    "\n",
    "    del model"
   ]
  },
  {
   "cell_type": "code",
   "execution_count": 19,
   "metadata": {},
   "outputs": [
    {
     "name": "stderr",
     "output_type": "stream",
     "text": [
      "c:\\Users\\roman\\anaconda3\\envs\\news\\lib\\site-packages\\sklearn\\utils\\validation.py:1858: FutureWarning: Feature names only support names that are all strings. Got feature names with dtypes: ['int', 'str']. An error will be raised in 1.2.\n",
      "  warnings.warn(\n",
      "c:\\Users\\roman\\anaconda3\\envs\\news\\lib\\site-packages\\sklearn\\utils\\validation.py:1858: FutureWarning: Feature names only support names that are all strings. Got feature names with dtypes: ['int', 'str']. An error will be raised in 1.2.\n",
      "  warnings.warn(\n",
      "c:\\Users\\roman\\anaconda3\\envs\\news\\lib\\site-packages\\sklearn\\utils\\validation.py:1858: FutureWarning: Feature names only support names that are all strings. Got feature names with dtypes: ['int', 'str']. An error will be raised in 1.2.\n",
      "  warnings.warn(\n",
      "c:\\Users\\roman\\anaconda3\\envs\\news\\lib\\site-packages\\sklearn\\utils\\validation.py:1858: FutureWarning: Feature names only support names that are all strings. Got feature names with dtypes: ['int', 'str']. An error will be raised in 1.2.\n",
      "  warnings.warn(\n",
      "c:\\Users\\roman\\anaconda3\\envs\\news\\lib\\site-packages\\sklearn\\utils\\validation.py:1858: FutureWarning: Feature names only support names that are all strings. Got feature names with dtypes: ['int', 'str']. An error will be raised in 1.2.\n",
      "  warnings.warn(\n",
      "c:\\Users\\roman\\anaconda3\\envs\\news\\lib\\site-packages\\sklearn\\utils\\validation.py:1858: FutureWarning: Feature names only support names that are all strings. Got feature names with dtypes: ['int', 'str']. An error will be raised in 1.2.\n",
      "  warnings.warn(\n",
      "[Parallel(n_jobs=-1)]: Using backend LokyBackend with 8 concurrent workers.\n"
     ]
    },
    {
     "name": "stdout",
     "output_type": "stream",
     "text": [
      "              precision    recall  f1-score   support\n",
      "\n",
      "         0.0       0.91      0.91      0.91       832\n",
      "         1.0       0.91      0.91      0.91       831\n",
      "\n",
      "    accuracy                           0.91      1663\n",
      "   macro avg       0.91      0.91      0.91      1663\n",
      "weighted avg       0.91      0.91      0.91      1663\n",
      "\n"
     ]
    },
    {
     "name": "stderr",
     "output_type": "stream",
     "text": [
      "[Parallel(n_jobs=-1)]: Done   1 out of   1 | elapsed:    0.5s finished\n"
     ]
    },
    {
     "data": {
      "text/plain": [
       "{0: LogisticRegression(max_iter=10000, n_jobs=-1, verbose=1),\n",
       " 1: LogisticRegression(max_iter=10000, n_jobs=-1, verbose=1),\n",
       " 2: LogisticRegression(max_iter=10000, n_jobs=-1, verbose=1),\n",
       " 'total': LogisticRegression(max_iter=10000, n_jobs=-1, verbose=1)}"
      ]
     },
     "execution_count": 19,
     "metadata": {},
     "output_type": "execute_result"
    }
   ],
   "source": [
    "# На основе всех обученных логрегов учим предсказывать конечный результат c помощью еще одной логистической регресси\n",
    "\n",
    "target_0 = X_df[(X_df['target'] == 0) & (X_df['splits'] == (n_splits - 1))].sample(n = X_df['target'].value_counts()[1], axis = 0)\n",
    "target_1 = X_df[X_df['target'] == 1]\n",
    "\n",
    "target_sampled = pd.concat([target_0, target_1], axis = 0)\n",
    "\n",
    "y = target_sampled['target']\n",
    "X = target_sampled.drop('target', axis = 1)\n",
    "\n",
    "X_train, X_test, y_train, y_test = train_test_split(X, y, test_size=0.2, random_state=42, stratify=y)\n",
    "\n",
    "logreg_number = 0\n",
    "df_train_logregs = pd.DataFrame()\n",
    "df_test_logregs = pd.DataFrame()\n",
    "\n",
    "for model_id in dict_models:\n",
    "\n",
    "    predicts_train = dict_models[model_id].predict(X_train)\n",
    "    df_train_logregs[logreg_number] = predicts_train\n",
    "\n",
    "    predicts_test = dict_models[model_id].predict(X_test)\n",
    "    df_test_logregs[logreg_number] = predicts_test\n",
    "\n",
    "    logreg_number += 1\n",
    "\n",
    "model = LogisticRegression(max_iter = 10000, verbose = 1, n_jobs = -1)\n",
    "model.fit(df_train_logregs, y_train)\n",
    "preds = model.predict(df_test_logregs)\n",
    "print(classification_report(y_test, preds))\n",
    "\n",
    "dict_models['total'] = model\n",
    "dict_models"
   ]
  },
  {
   "cell_type": "code",
   "execution_count": 20,
   "metadata": {},
   "outputs": [],
   "source": [
    "# Сохраняем все обученные модели\n",
    "\n",
    "with open(f'./data/users/{user_id}/models.pickle', 'wb') as handle:\n",
    "    pickle.dump(dict_models, handle, protocol=pickle.HIGHEST_PROTOCOL)"
   ]
  }
 ],
 "metadata": {
  "kernelspec": {
   "display_name": "Python 3.10.4 ('news')",
   "language": "python",
   "name": "python3"
  },
  "language_info": {
   "codemirror_mode": {
    "name": "ipython",
    "version": 3
   },
   "file_extension": ".py",
   "mimetype": "text/x-python",
   "name": "python",
   "nbconvert_exporter": "python",
   "pygments_lexer": "ipython3",
   "version": "3.10.4"
  },
  "vscode": {
   "interpreter": {
    "hash": "9e20e9e5ef22f0271bfeab641314af8ff21179ec4e0f79deb9ad2792c779deb6"
   }
  }
 },
 "nbformat": 4,
 "nbformat_minor": 2
}
