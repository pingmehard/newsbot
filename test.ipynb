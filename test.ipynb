{
 "cells": [
  {
   "cell_type": "code",
   "execution_count": 7,
   "metadata": {},
   "outputs": [],
   "source": [
    "import json"
   ]
  },
  {
   "cell_type": "code",
   "execution_count": 44,
   "metadata": {},
   "outputs": [],
   "source": [
    "def negative_counter(user_id):\n",
    "\n",
    "    if 'negative_counter.json' in os.listdir(f'./data/users/{user_id}/'):\n",
    "        with open(f'./data/users/{user_id}/negative_counter.json', 'r') as f:\n",
    "            number = json.load(f)\n",
    "        \n",
    "        number = int(number) + 1\n",
    "\n",
    "        with open(f'./data/users/{user_id}/negative_counter.json', 'w') as f:\n",
    "            json.dump(number, f)\n",
    "\n",
    "    else:\n",
    "        with open(f'./data/users/{user_id}/negative_counter.json', 'w') as f:\n",
    "            json.dump(1, f)"
   ]
  },
  {
   "cell_type": "code",
   "execution_count": 45,
   "metadata": {},
   "outputs": [],
   "source": [
    "negative_counter(141587836)"
   ]
  }
 ],
 "metadata": {
  "kernelspec": {
   "display_name": "Python 3.10.4 ('news')",
   "language": "python",
   "name": "python3"
  },
  "language_info": {
   "codemirror_mode": {
    "name": "ipython",
    "version": 3
   },
   "file_extension": ".py",
   "mimetype": "text/x-python",
   "name": "python",
   "nbconvert_exporter": "python",
   "pygments_lexer": "ipython3",
   "version": "3.10.4"
  },
  "vscode": {
   "interpreter": {
    "hash": "9e20e9e5ef22f0271bfeab641314af8ff21179ec4e0f79deb9ad2792c779deb6"
   }
  }
 },
 "nbformat": 4,
 "nbformat_minor": 2
}
