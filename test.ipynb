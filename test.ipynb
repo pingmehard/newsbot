{
 "cells": [
  {
   "cell_type": "code",
   "execution_count": 1,
   "metadata": {},
   "outputs": [
    {
     "data": {
      "text/plain": [
       "' Как в итоге работает решение?\\n\\n1. Я обучаю каждый раз модели логрега на основе идентификатора пользователя. Это можно делать ночью. Нужно ли это делать каждый раз? Да, так как новости меняются. Исследовать.\\n2. На выходе полученной функции я получаю словарь моделей, который можно переиспользовать в боте, как часть алгоритма получения валидации новости для каждого пользователя.\\n3. Если аппроксимируемый класс модели == 1, то новость выводить, она положительная. Если == 0, то не выводить, так как она отрицальная. \\n4. Нужно мониторить результат обучения модели. Возомжно стоит определить, когда модели нужно начинать обучаться. Спустя какое количество классов?\\n\\n'"
      ]
     },
     "execution_count": 1,
     "metadata": {},
     "output_type": "execute_result"
    }
   ],
   "source": [
    "# Предусмотреть возможность перераспределения классов. Так как классов может быть равное количество, не будет необходимости обучать несколько моделей.\n",
    "# При этом важно отметить, что может быть наборот. Какой-то из классов имеет меньший обхем и это нужно определять.\n",
    "\n",
    "# Нужны ограничения на количество обучаемых моделей. Если отношение слишком велико? Может ли быть такое?\n",
    "\n",
    "''' Как в итоге работает решение?\n",
    "\n",
    "1. Я обучаю каждый раз модели логрега на основе идентификатора пользователя. Это можно делать ночью. Нужно ли это делать каждый раз? Да, так как новости меняются. Исследовать.\n",
    "2. На выходе полученной функции я получаю словарь моделей, который можно переиспользовать в боте, как часть алгоритма получения валидации новости для каждого пользователя.\n",
    "3. Если аппроксимируемый класс модели == 1, то новость выводить, она положительная. Если == 0, то не выводить, так как она отрицальная. \n",
    "4. Нужно мониторить результат обучения модели. Возомжно стоит определить, когда модели нужно начинать обучаться. Спустя какое количество классов?\n",
    "\n",
    "'''"
   ]
  },
  {
   "cell_type": "code",
   "execution_count": 2,
   "metadata": {},
   "outputs": [],
   "source": [
    "import json\n",
    "from ddl import cos_distance\n",
    "import numpy as np\n",
    "import os\n",
    "\n",
    "import pandas as pd"
   ]
  },
  {
   "cell_type": "code",
   "execution_count": 3,
   "metadata": {},
   "outputs": [],
   "source": [
    "from sklearn.model_selection import train_test_split\n",
    "from sklearn.linear_model import LogisticRegression\n",
    "from sklearn.model_selection import ShuffleSplit\n",
    "from sklearn.metrics import classification_report\n",
    "from sklearn.ensemble import RandomForestClassifier, VotingClassifier\n",
    "from sklearn.model_selection import KFold\n",
    "\n",
    "from collections import Counter"
   ]
  },
  {
   "cell_type": "code",
   "execution_count": 4,
   "metadata": {},
   "outputs": [],
   "source": [
    "import pickle"
   ]
  },
  {
   "cell_type": "code",
   "execution_count": null,
   "metadata": {},
   "outputs": [],
   "source": [
    "def train_model(user_id, sources):\n",
    "\n",
    "# Загружаем все новости в оперативку\n",
    "for where_from in sources:\n",
    "    with open(f'./data/vectors/vectors_news_{where_from}.json', 'r') as f:\n",
    "        temp = json.load(f)\n",
    "        for i in temp:\n",
    "            data_vectors[i] = temp[i]\n",
    "\n",
    "# Открываем все реакции человека на новости\n",
    "with open(f'./data/users/{user_id}/embeddings_{user_id}.json', 'r') as f:\n",
    "    data = json.load(f)\n",
    "\n",
    "# Находим отличия от отрицальных новостей \n",
    "negative_set = [id for id in data.keys() if data[id]['target'] == '0']\n",
    "all_set = set(data_vectors.keys())\n",
    "not_negative_set = all_set ^ set(negative_set)\n",
    "\n",
    "print(len(negative_set), len(not_negative_set))\n",
    "\n",
    "# Сравнение потенциальных положительных новостей со всеми новостями, поиск самых близких негативных к ним\n",
    "c = 0\n",
    "for id in negative_set:\n",
    "    for id_all in not_negative_set:\n",
    "        matching_cos_distance.append(cos_distance(np.array(data_vectors[id]['news_embedding']), np.array(data_vectors[id_all]['news_embedding'])))\n",
    "        potential_positive_samples.append(id_all)\n",
    "\n",
    "        c += 1\n",
    "        if c % 1_000_000 == 0:\n",
    "            print(c, end = '\\r')\n",
    "\n",
    "# Определяем позитивные новости из существующей разметки пользователя\n",
    "positive_samples = []\n",
    "positive_set = [id for id in data.keys() if data[id]['target'] == '1']\n",
    "\n",
    "negative_list_std = []\n",
    "\n",
    "# Считаем отклонение для определения параметра отбора позитивных новостей, которые понравились\n",
    "matching_std = np.std(matching_cos_distance)\n",
    "matching_mean = np.mean(matching_cos_distance)\n",
    "\n",
    "# Ищем позитивные для человека новости, потенциально это все новости, что меньше (среднее по всем сравнениям + 1 стандартное отклонение)\n",
    "for item in zip(potential_positive_samples, matching_cos_distance):\n",
    "    if item[1] >= (matching_mean + 2 * matching_std):\n",
    "        negative_list_std.append(item[0])\n"
   ]
  },
  {
   "cell_type": "code",
   "execution_count": 5,
   "metadata": {},
   "outputs": [],
   "source": [
    "user_id = 196572670\n",
    "sources = [\"rbc\", \"lenta\", \"ria\", \"habr\"]\n",
    "data_vectors = {}\n",
    "matching_cos_distance = []\n",
    "negative_samples = []\n",
    "potential_positive_samples = []"
   ]
  },
  {
   "cell_type": "code",
   "execution_count": 6,
   "metadata": {},
   "outputs": [],
   "source": [
    "# Загружаем все новости в оперативку\n",
    "for where_from in sources:\n",
    "    with open(f'./data/vectors/vectors_news_{where_from}.json', 'r') as f:\n",
    "        temp = json.load(f)\n",
    "        for i in temp:\n",
    "            data_vectors[i] = temp[i]"
   ]
  },
  {
   "cell_type": "code",
   "execution_count": 7,
   "metadata": {},
   "outputs": [
    {
     "name": "stdout",
     "output_type": "stream",
     "text": [
      "558 22923\n",
      "12000000\r"
     ]
    }
   ],
   "source": [
    "# def find_intersections(news_title, user_id, news_title_emb):\n",
    "\n",
    "# Открываем все реакции человека на новости\n",
    "with open(f'./data/users/{user_id}/embeddings_{user_id}.json', 'r') as f:\n",
    "    data = json.load(f)\n",
    "\n",
    "# Находим отличия от отрицальных новостей \n",
    "negative_set = [id for id in data.keys() if data[id]['target'] == '0']\n",
    "all_set = set(data_vectors.keys())\n",
    "not_negative_set = all_set ^ set(negative_set)\n",
    "\n",
    "print(len(negative_set), len(not_negative_set))\n",
    "\n",
    "# Сравнение потенциальных положительных новостей со всеми новостями, поиск самых близких негативных к ним\n",
    "c = 0\n",
    "for id in negative_set:\n",
    "    for id_all in not_negative_set:\n",
    "        matching_cos_distance.append(cos_distance(np.array(data_vectors[id]['news_embedding']), np.array(data_vectors[id_all]['news_embedding'])))\n",
    "        potential_positive_samples.append(id_all)\n",
    "\n",
    "        c += 1\n",
    "        if c % 1_000_000 == 0:\n",
    "            print(c, end = '\\r')\n"
   ]
  },
  {
   "cell_type": "code",
   "execution_count": 8,
   "metadata": {},
   "outputs": [],
   "source": [
    "# Определяем позитивные новости из существующей разметки пользователя\n",
    "positive_samples = []\n",
    "positive_set = [id for id in data.keys() if data[id]['target'] == '1']\n",
    "\n",
    "negative_list_std = []\n",
    "\n",
    "# Считаем отклонение для определения параметра отбора позитивных новостей, которые понравились\n",
    "matching_std = np.std(matching_cos_distance)\n",
    "matching_mean = np.mean(matching_cos_distance)\n",
    "\n",
    "# Ищем позитивные для человека новости, потенциально это все новости, что меньше (среднее по всем сравнениям + 1 стандартное отклонение)\n",
    "for item in zip(potential_positive_samples, matching_cos_distance):\n",
    "    if item[1] >= (matching_mean + 2 * matching_std):\n",
    "        negative_list_std.append(item[0])"
   ]
  },
  {
   "cell_type": "code",
   "execution_count": 9,
   "metadata": {},
   "outputs": [],
   "source": [
    "# Вычитаем из позитивных потенциальных негативные относительно стандартного отклонения\n",
    "positive_samples = set(potential_positive_samples) - set(negative_list_std)\n",
    "# Расширяем сет размеченных позитивных позитивными потенциально\n",
    "positive_set.extend(positive_samples)"
   ]
  },
  {
   "cell_type": "code",
   "execution_count": 10,
   "metadata": {},
   "outputs": [
    {
     "name": "stdout",
     "output_type": "stream",
     "text": [
      "6741\n",
      "2\n"
     ]
    }
   ],
   "source": [
    "# Сколько позитивных у нас получилось\n",
    "print(len(positive_set))\n",
    "# Проверяем, есть ли у нас пересечения между позитивными и негативными (не должно быть совсем)\n",
    "print(len(set(negative_list_std) & set(positive_set)))"
   ]
  },
  {
   "cell_type": "code",
   "execution_count": 11,
   "metadata": {},
   "outputs": [],
   "source": [
    "# Получаем эмбеддинги каждого позитивного и негативного случая\n",
    "positive_embeddings = []\n",
    "negative_embeddings = []\n",
    "\n",
    "for id in positive_set:\n",
    "    positive_embeddings.append(data_vectors[id]['news_embedding'])\n",
    "\n",
    "for id in set(negative_list_std):\n",
    "    negative_embeddings.append(data_vectors[id]['news_embedding'])"
   ]
  },
  {
   "cell_type": "code",
   "execution_count": 12,
   "metadata": {},
   "outputs": [],
   "source": [
    "# Превращаем в numpy все вектора позитивных и отрциательных новостей\n",
    "\n",
    "positive_embeddings_array = np.array(positive_embeddings)\n",
    "negative_embeddings_array = np.array(negative_embeddings)"
   ]
  },
  {
   "cell_type": "code",
   "execution_count": 13,
   "metadata": {},
   "outputs": [
    {
     "data": {
      "text/plain": [
       "((6741, 300), (16188, 300))"
      ]
     },
     "execution_count": 13,
     "metadata": {},
     "output_type": "execute_result"
    }
   ],
   "source": [
    "# Смотрим какой shape для каждого\n",
    "positive_embeddings_array.shape, negative_embeddings_array.shape"
   ]
  },
  {
   "cell_type": "code",
   "execution_count": 14,
   "metadata": {},
   "outputs": [],
   "source": [
    "# Заполняем 0 и 1 каждый из отрицательных и положительных новостей\n",
    "ones_array = np.ones((positive_embeddings_array.shape[0],1))\n",
    "zeros_array = np.zeros((negative_embeddings_array.shape[0],1))"
   ]
  },
  {
   "cell_type": "code",
   "execution_count": 15,
   "metadata": {},
   "outputs": [],
   "source": [
    "# Собираем все воедино в датасет\n",
    "a = np.hstack((positive_embeddings_array, ones_array))\n",
    "b = np.hstack((negative_embeddings_array, zeros_array))\n",
    "X_np = np.vstack((a, b))"
   ]
  },
  {
   "cell_type": "code",
   "execution_count": 16,
   "metadata": {},
   "outputs": [],
   "source": [
    "# Затем пытаемся обучить модель искать такие или относить к негативным все остальные новости"
   ]
  },
  {
   "cell_type": "code",
   "execution_count": 17,
   "metadata": {},
   "outputs": [],
   "source": [
    "X_df = pd.DataFrame(X_np).rename({300:'target'}, axis = 1)\n",
    "\n",
    "# Получаем количество сэмплов для разделения наибольшего класса\n",
    "\n",
    "n_splits = X_df['target'].value_counts()[0] // X_df['target'].value_counts()[1]\n",
    "\n",
    "X_df['splits'] = X_df.index % n_splits"
   ]
  },
  {
   "cell_type": "code",
   "execution_count": 18,
   "metadata": {},
   "outputs": [],
   "source": [
    "target_0 = X_df[(X_df['target'] == 0)].sample(n = X_df['target'].value_counts()[1], axis = 0)\n",
    "target_1 = X_df[X_df['target'] == 1]\n",
    "\n",
    "target_sampled = pd.concat([target_0, target_1], axis = 0)\n",
    "\n",
    "y = target_sampled['target']\n",
    "X = target_sampled.drop(['target', 'splits'], axis = 1)\n",
    "\n",
    "X_train, X_test, y_train, y_test = train_test_split(X, y, test_size=0.2, random_state=42, stratify=y)"
   ]
  },
  {
   "cell_type": "code",
   "execution_count": 19,
   "metadata": {},
   "outputs": [],
   "source": [
    "import tensorflow as tf\n",
    "from tensorflow import keras\n",
    "from tensorflow.keras import layers"
   ]
  },
  {
   "cell_type": "code",
   "execution_count": 20,
   "metadata": {},
   "outputs": [
    {
     "name": "stdout",
     "output_type": "stream",
     "text": [
      "Epoch 1/50\n",
      "338/338 [==============================] - 5s 8ms/step - loss: 0.5680 - binary_accuracy: 0.6975 - val_loss: 0.4732 - val_binary_accuracy: 0.7779\n",
      "Epoch 2/50\n",
      "338/338 [==============================] - 2s 5ms/step - loss: 0.4473 - binary_accuracy: 0.7890 - val_loss: 0.4213 - val_binary_accuracy: 0.8079\n",
      "Epoch 3/50\n",
      "338/338 [==============================] - 2s 6ms/step - loss: 0.4058 - binary_accuracy: 0.8153 - val_loss: 0.3928 - val_binary_accuracy: 0.8242\n",
      "Epoch 4/50\n",
      "338/338 [==============================] - 2s 5ms/step - loss: 0.3809 - binary_accuracy: 0.8277 - val_loss: 0.3758 - val_binary_accuracy: 0.8380\n",
      "Epoch 5/50\n",
      "338/338 [==============================] - 2s 6ms/step - loss: 0.3628 - binary_accuracy: 0.8392 - val_loss: 0.3620 - val_binary_accuracy: 0.8413\n",
      "Epoch 6/50\n",
      "338/338 [==============================] - 2s 6ms/step - loss: 0.3487 - binary_accuracy: 0.8469 - val_loss: 0.3525 - val_binary_accuracy: 0.8435\n",
      "Epoch 7/50\n",
      "338/338 [==============================] - 2s 6ms/step - loss: 0.3368 - binary_accuracy: 0.8514 - val_loss: 0.3455 - val_binary_accuracy: 0.8487\n",
      "Epoch 8/50\n",
      "338/338 [==============================] - 2s 5ms/step - loss: 0.3272 - binary_accuracy: 0.8581 - val_loss: 0.3391 - val_binary_accuracy: 0.8498\n",
      "Epoch 9/50\n",
      "338/338 [==============================] - 2s 6ms/step - loss: 0.3186 - binary_accuracy: 0.8626 - val_loss: 0.3337 - val_binary_accuracy: 0.8547\n",
      "Epoch 10/50\n",
      "338/338 [==============================] - 2s 5ms/step - loss: 0.3109 - binary_accuracy: 0.8689 - val_loss: 0.3315 - val_binary_accuracy: 0.8506\n",
      "Epoch 11/50\n",
      "338/338 [==============================] - 2s 5ms/step - loss: 0.3041 - binary_accuracy: 0.8699 - val_loss: 0.3250 - val_binary_accuracy: 0.8569\n",
      "Epoch 12/50\n",
      "338/338 [==============================] - 2s 6ms/step - loss: 0.2979 - binary_accuracy: 0.8736 - val_loss: 0.3219 - val_binary_accuracy: 0.8561\n",
      "Epoch 13/50\n",
      "338/338 [==============================] - 2s 5ms/step - loss: 0.2919 - binary_accuracy: 0.8760 - val_loss: 0.3190 - val_binary_accuracy: 0.8580\n",
      "Epoch 14/50\n",
      "338/338 [==============================] - 2s 5ms/step - loss: 0.2863 - binary_accuracy: 0.8806 - val_loss: 0.3165 - val_binary_accuracy: 0.8639\n",
      "Epoch 15/50\n",
      "338/338 [==============================] - 2s 5ms/step - loss: 0.2809 - binary_accuracy: 0.8822 - val_loss: 0.3145 - val_binary_accuracy: 0.8628\n",
      "Epoch 16/50\n",
      "338/338 [==============================] - 1s 4ms/step - loss: 0.2759 - binary_accuracy: 0.8844 - val_loss: 0.3120 - val_binary_accuracy: 0.8643\n",
      "Epoch 17/50\n",
      "338/338 [==============================] - 2s 6ms/step - loss: 0.2714 - binary_accuracy: 0.8862 - val_loss: 0.3109 - val_binary_accuracy: 0.8628\n",
      "Epoch 18/50\n",
      "338/338 [==============================] - 2s 5ms/step - loss: 0.2670 - binary_accuracy: 0.8907 - val_loss: 0.3089 - val_binary_accuracy: 0.8654\n",
      "Epoch 19/50\n",
      "338/338 [==============================] - 2s 6ms/step - loss: 0.2622 - binary_accuracy: 0.8922 - val_loss: 0.3075 - val_binary_accuracy: 0.8647\n",
      "Epoch 20/50\n",
      "338/338 [==============================] - 2s 6ms/step - loss: 0.2581 - binary_accuracy: 0.8953 - val_loss: 0.3056 - val_binary_accuracy: 0.8654\n",
      "Epoch 21/50\n",
      "338/338 [==============================] - 2s 6ms/step - loss: 0.2537 - binary_accuracy: 0.8980 - val_loss: 0.3060 - val_binary_accuracy: 0.8602\n",
      "Epoch 22/50\n",
      "338/338 [==============================] - 2s 5ms/step - loss: 0.2500 - binary_accuracy: 0.8990 - val_loss: 0.3036 - val_binary_accuracy: 0.8669\n",
      "Epoch 23/50\n",
      "338/338 [==============================] - 2s 5ms/step - loss: 0.2464 - binary_accuracy: 0.9006 - val_loss: 0.3030 - val_binary_accuracy: 0.8647\n",
      "Epoch 24/50\n",
      "338/338 [==============================] - 2s 6ms/step - loss: 0.2423 - binary_accuracy: 0.9034 - val_loss: 0.3012 - val_binary_accuracy: 0.8665\n",
      "Epoch 25/50\n",
      "338/338 [==============================] - 2s 5ms/step - loss: 0.2387 - binary_accuracy: 0.9045 - val_loss: 0.3014 - val_binary_accuracy: 0.8669\n",
      "Epoch 26/50\n",
      "338/338 [==============================] - 2s 6ms/step - loss: 0.2357 - binary_accuracy: 0.9059 - val_loss: 0.3013 - val_binary_accuracy: 0.8643\n",
      "Epoch 27/50\n",
      "338/338 [==============================] - 2s 5ms/step - loss: 0.2321 - binary_accuracy: 0.9075 - val_loss: 0.2993 - val_binary_accuracy: 0.8710\n",
      "Epoch 28/50\n",
      "338/338 [==============================] - 2s 5ms/step - loss: 0.2289 - binary_accuracy: 0.9089 - val_loss: 0.2995 - val_binary_accuracy: 0.8676\n",
      "Epoch 29/50\n",
      "338/338 [==============================] - 2s 5ms/step - loss: 0.2254 - binary_accuracy: 0.9111 - val_loss: 0.3030 - val_binary_accuracy: 0.8595\n",
      "Epoch 30/50\n",
      "338/338 [==============================] - 2s 6ms/step - loss: 0.2229 - binary_accuracy: 0.9129 - val_loss: 0.2979 - val_binary_accuracy: 0.8680\n",
      "Epoch 31/50\n",
      "338/338 [==============================] - 2s 5ms/step - loss: 0.2194 - binary_accuracy: 0.9134 - val_loss: 0.2977 - val_binary_accuracy: 0.8691\n",
      "Epoch 32/50\n",
      "338/338 [==============================] - 2s 5ms/step - loss: 0.2168 - binary_accuracy: 0.9155 - val_loss: 0.2996 - val_binary_accuracy: 0.8665\n",
      "Epoch 33/50\n",
      "338/338 [==============================] - 2s 5ms/step - loss: 0.2141 - binary_accuracy: 0.9173 - val_loss: 0.2981 - val_binary_accuracy: 0.8706\n",
      "Epoch 34/50\n",
      "338/338 [==============================] - 2s 5ms/step - loss: 0.2111 - binary_accuracy: 0.9184 - val_loss: 0.2989 - val_binary_accuracy: 0.8702\n",
      "Epoch 35/50\n",
      "338/338 [==============================] - 2s 5ms/step - loss: 0.2082 - binary_accuracy: 0.9185 - val_loss: 0.2976 - val_binary_accuracy: 0.8687\n",
      "Epoch 36/50\n",
      "338/338 [==============================] - 2s 5ms/step - loss: 0.2057 - binary_accuracy: 0.9207 - val_loss: 0.2979 - val_binary_accuracy: 0.8699\n",
      "Epoch 37/50\n",
      "338/338 [==============================] - 2s 5ms/step - loss: 0.2029 - binary_accuracy: 0.9222 - val_loss: 0.2972 - val_binary_accuracy: 0.8687\n",
      "Epoch 38/50\n",
      "338/338 [==============================] - 1s 4ms/step - loss: 0.2006 - binary_accuracy: 0.9222 - val_loss: 0.2981 - val_binary_accuracy: 0.8713\n",
      "Epoch 39/50\n",
      "338/338 [==============================] - 2s 5ms/step - loss: 0.1982 - binary_accuracy: 0.9226 - val_loss: 0.2974 - val_binary_accuracy: 0.8702\n",
      "Epoch 40/50\n",
      "338/338 [==============================] - 2s 5ms/step - loss: 0.1954 - binary_accuracy: 0.9265 - val_loss: 0.2979 - val_binary_accuracy: 0.8695\n",
      "Epoch 41/50\n",
      "338/338 [==============================] - 2s 5ms/step - loss: 0.1931 - binary_accuracy: 0.9268 - val_loss: 0.2988 - val_binary_accuracy: 0.8699\n",
      "Epoch 42/50\n",
      "338/338 [==============================] - 1s 4ms/step - loss: 0.1911 - binary_accuracy: 0.9275 - val_loss: 0.2991 - val_binary_accuracy: 0.8680\n",
      "Epoch 43/50\n",
      "338/338 [==============================] - 1s 4ms/step - loss: 0.1888 - binary_accuracy: 0.9281 - val_loss: 0.2983 - val_binary_accuracy: 0.8665\n",
      "Epoch 44/50\n",
      "338/338 [==============================] - 1s 4ms/step - loss: 0.1861 - binary_accuracy: 0.9287 - val_loss: 0.3010 - val_binary_accuracy: 0.8680\n",
      "Epoch 45/50\n",
      "338/338 [==============================] - 1s 4ms/step - loss: 0.1839 - binary_accuracy: 0.9296 - val_loss: 0.2987 - val_binary_accuracy: 0.8699\n",
      "Epoch 46/50\n",
      "338/338 [==============================] - 1s 4ms/step - loss: 0.1818 - binary_accuracy: 0.9320 - val_loss: 0.2986 - val_binary_accuracy: 0.8695\n",
      "Epoch 47/50\n",
      "338/338 [==============================] - 1s 4ms/step - loss: 0.1796 - binary_accuracy: 0.9336 - val_loss: 0.2992 - val_binary_accuracy: 0.8706\n",
      "Epoch 48/50\n",
      "338/338 [==============================] - 1s 4ms/step - loss: 0.1772 - binary_accuracy: 0.9344 - val_loss: 0.3014 - val_binary_accuracy: 0.8691\n",
      "Epoch 49/50\n",
      "338/338 [==============================] - 1s 4ms/step - loss: 0.1751 - binary_accuracy: 0.9350 - val_loss: 0.3005 - val_binary_accuracy: 0.8684\n",
      "Epoch 50/50\n",
      "338/338 [==============================] - 1s 4ms/step - loss: 0.1729 - binary_accuracy: 0.9367 - val_loss: 0.3005 - val_binary_accuracy: 0.8702\n"
     ]
    },
    {
     "data": {
      "text/plain": [
       "<keras.callbacks.History at 0x1f42a387190>"
      ]
     },
     "execution_count": 20,
     "metadata": {},
     "output_type": "execute_result"
    }
   ],
   "source": [
    "model = keras.Sequential(\n",
    "    [\n",
    "        layers.Dense(32, activation=\"relu\"),\n",
    "        layers.Dense(1, activation=\"sigmoid\"),\n",
    "    ]\n",
    ")\n",
    "\n",
    "model.compile(loss=\"binary_crossentropy\", optimizer = keras.optimizers.Adam(learning_rate=0.0001), metrics=[tf.keras.metrics.BinaryAccuracy()])\n",
    "\n",
    "model.fit(X_train, y_train, epochs=50, batch_size = 32, validation_data=(X_test, y_test))\n"
   ]
  },
  {
   "cell_type": "code",
   "execution_count": 21,
   "metadata": {},
   "outputs": [
    {
     "name": "stderr",
     "output_type": "stream",
     "text": [
      "[nltk_data] Downloading package stopwords to\n",
      "[nltk_data]     C:\\Users\\roman\\AppData\\Roaming\\nltk_data...\n",
      "[nltk_data]   Package stopwords is already up-to-date!\n"
     ]
    }
   ],
   "source": [
    "from prep_embeddings import to_navec"
   ]
  },
  {
   "cell_type": "code",
   "execution_count": 33,
   "metadata": {},
   "outputs": [],
   "source": [
    "vec = to_navec('Блондинка говорит: \"Сделайте свой шампунь лучше\"')"
   ]
  },
  {
   "cell_type": "code",
   "execution_count": 34,
   "metadata": {},
   "outputs": [
    {
     "data": {
      "text/html": [
       "<div>\n",
       "<style scoped>\n",
       "    .dataframe tbody tr th:only-of-type {\n",
       "        vertical-align: middle;\n",
       "    }\n",
       "\n",
       "    .dataframe tbody tr th {\n",
       "        vertical-align: top;\n",
       "    }\n",
       "\n",
       "    .dataframe thead th {\n",
       "        text-align: right;\n",
       "    }\n",
       "</style>\n",
       "<table border=\"1\" class=\"dataframe\">\n",
       "  <thead>\n",
       "    <tr style=\"text-align: right;\">\n",
       "      <th></th>\n",
       "      <th>0</th>\n",
       "      <th>1</th>\n",
       "      <th>2</th>\n",
       "      <th>3</th>\n",
       "      <th>4</th>\n",
       "      <th>5</th>\n",
       "      <th>6</th>\n",
       "      <th>7</th>\n",
       "      <th>8</th>\n",
       "      <th>9</th>\n",
       "      <th>...</th>\n",
       "      <th>290</th>\n",
       "      <th>291</th>\n",
       "      <th>292</th>\n",
       "      <th>293</th>\n",
       "      <th>294</th>\n",
       "      <th>295</th>\n",
       "      <th>296</th>\n",
       "      <th>297</th>\n",
       "      <th>298</th>\n",
       "      <th>299</th>\n",
       "    </tr>\n",
       "  </thead>\n",
       "  <tbody>\n",
       "    <tr>\n",
       "      <th>0</th>\n",
       "      <td>1.034965</td>\n",
       "      <td>0.668056</td>\n",
       "      <td>0.181175</td>\n",
       "      <td>1.656294</td>\n",
       "      <td>-0.217448</td>\n",
       "      <td>1.832649</td>\n",
       "      <td>0.012208</td>\n",
       "      <td>-1.387571</td>\n",
       "      <td>-1.139557</td>\n",
       "      <td>0.406408</td>\n",
       "      <td>...</td>\n",
       "      <td>0.264317</td>\n",
       "      <td>2.176169</td>\n",
       "      <td>1.347172</td>\n",
       "      <td>-0.864714</td>\n",
       "      <td>0.969525</td>\n",
       "      <td>-0.773519</td>\n",
       "      <td>3.040732</td>\n",
       "      <td>0.029852</td>\n",
       "      <td>-0.719007</td>\n",
       "      <td>-1.816071</td>\n",
       "    </tr>\n",
       "  </tbody>\n",
       "</table>\n",
       "<p>1 rows × 300 columns</p>\n",
       "</div>"
      ],
      "text/plain": [
       "        0         1         2         3         4         5         6    \\\n",
       "0  1.034965  0.668056  0.181175  1.656294 -0.217448  1.832649  0.012208   \n",
       "\n",
       "        7         8         9    ...       290       291       292       293  \\\n",
       "0 -1.387571 -1.139557  0.406408  ...  0.264317  2.176169  1.347172 -0.864714   \n",
       "\n",
       "        294       295       296       297       298       299  \n",
       "0  0.969525 -0.773519  3.040732  0.029852 -0.719007 -1.816071  \n",
       "\n",
       "[1 rows x 300 columns]"
      ]
     },
     "execution_count": 34,
     "metadata": {},
     "output_type": "execute_result"
    }
   ],
   "source": [
    "pd.DataFrame(vec).T"
   ]
  },
  {
   "cell_type": "code",
   "execution_count": 35,
   "metadata": {},
   "outputs": [
    {
     "name": "stdout",
     "output_type": "stream",
     "text": [
      "1/1 [==============================] - 0s 45ms/step\n"
     ]
    },
    {
     "data": {
      "text/plain": [
       "array([[0.97625685]], dtype=float32)"
      ]
     },
     "execution_count": 35,
     "metadata": {},
     "output_type": "execute_result"
    }
   ],
   "source": [
    "model.predict(pd.DataFrame(vec).T)"
   ]
  },
  {
   "cell_type": "code",
   "execution_count": 29,
   "metadata": {},
   "outputs": [
    {
     "name": "stdout",
     "output_type": "stream",
     "text": [
      "85/85 [==============================] - 0s 3ms/step\n",
      "              precision    recall  f1-score   support\n",
      "\n",
      "         0.0       0.87      0.87      0.87      1349\n",
      "         1.0       0.87      0.87      0.87      1348\n",
      "\n",
      "    accuracy                           0.87      2697\n",
      "   macro avg       0.87      0.87      0.87      2697\n",
      "weighted avg       0.87      0.87      0.87      2697\n",
      "\n"
     ]
    }
   ],
   "source": [
    "preds_sigm = model.predict(X_test)\n",
    "preds = (preds_sigm >= 0.5) * 1\n",
    "\n",
    "from sklearn.metrics import classification_report\n",
    "\n",
    "print(classification_report(y_test, preds))"
   ]
  },
  {
   "cell_type": "code",
   "execution_count": null,
   "metadata": {},
   "outputs": [],
   "source": []
  },
  {
   "cell_type": "code",
   "execution_count": 18,
   "metadata": {},
   "outputs": [
    {
     "name": "stderr",
     "output_type": "stream",
     "text": [
      "c:\\Users\\roman\\anaconda3\\envs\\news\\lib\\site-packages\\sklearn\\utils\\validation.py:1858: FutureWarning: Feature names only support names that are all strings. Got feature names with dtypes: ['int', 'str']. An error will be raised in 1.2.\n",
      "  warnings.warn(\n",
      "[Parallel(n_jobs=-1)]: Using backend LokyBackend with 8 concurrent workers.\n",
      "[Parallel(n_jobs=-1)]: Done   1 out of   1 | elapsed:    4.8s finished\n",
      "c:\\Users\\roman\\anaconda3\\envs\\news\\lib\\site-packages\\sklearn\\utils\\validation.py:1858: FutureWarning: Feature names only support names that are all strings. Got feature names with dtypes: ['int', 'str']. An error will be raised in 1.2.\n",
      "  warnings.warn(\n",
      "c:\\Users\\roman\\anaconda3\\envs\\news\\lib\\site-packages\\sklearn\\utils\\validation.py:1858: FutureWarning: Feature names only support names that are all strings. Got feature names with dtypes: ['int', 'str']. An error will be raised in 1.2.\n",
      "  warnings.warn(\n",
      "[Parallel(n_jobs=-1)]: Using backend LokyBackend with 8 concurrent workers.\n"
     ]
    },
    {
     "name": "stdout",
     "output_type": "stream",
     "text": [
      "              precision    recall  f1-score   support\n",
      "\n",
      "         0.0       0.89      0.92      0.91       832\n",
      "         1.0       0.92      0.89      0.90       831\n",
      "\n",
      "    accuracy                           0.90      1663\n",
      "   macro avg       0.90      0.90      0.90      1663\n",
      "weighted avg       0.90      0.90      0.90      1663\n",
      "\n"
     ]
    },
    {
     "name": "stderr",
     "output_type": "stream",
     "text": [
      "[Parallel(n_jobs=-1)]: Done   1 out of   1 | elapsed:    2.7s finished\n",
      "c:\\Users\\roman\\anaconda3\\envs\\news\\lib\\site-packages\\sklearn\\utils\\validation.py:1858: FutureWarning: Feature names only support names that are all strings. Got feature names with dtypes: ['int', 'str']. An error will be raised in 1.2.\n",
      "  warnings.warn(\n",
      "c:\\Users\\roman\\anaconda3\\envs\\news\\lib\\site-packages\\sklearn\\utils\\validation.py:1858: FutureWarning: Feature names only support names that are all strings. Got feature names with dtypes: ['int', 'str']. An error will be raised in 1.2.\n",
      "  warnings.warn(\n",
      "[Parallel(n_jobs=-1)]: Using backend LokyBackend with 8 concurrent workers.\n"
     ]
    },
    {
     "name": "stdout",
     "output_type": "stream",
     "text": [
      "              precision    recall  f1-score   support\n",
      "\n",
      "         0.0       0.88      0.86      0.87       832\n",
      "         1.0       0.86      0.88      0.87       831\n",
      "\n",
      "    accuracy                           0.87      1663\n",
      "   macro avg       0.87      0.87      0.87      1663\n",
      "weighted avg       0.87      0.87      0.87      1663\n",
      "\n"
     ]
    },
    {
     "name": "stderr",
     "output_type": "stream",
     "text": [
      "[Parallel(n_jobs=-1)]: Done   1 out of   1 | elapsed:    3.3s finished\n"
     ]
    },
    {
     "name": "stdout",
     "output_type": "stream",
     "text": [
      "              precision    recall  f1-score   support\n",
      "\n",
      "         0.0       0.89      0.86      0.87       832\n",
      "         1.0       0.86      0.89      0.88       831\n",
      "\n",
      "    accuracy                           0.88      1663\n",
      "   macro avg       0.88      0.88      0.88      1663\n",
      "weighted avg       0.88      0.88      0.88      1663\n",
      "\n"
     ]
    },
    {
     "name": "stderr",
     "output_type": "stream",
     "text": [
      "c:\\Users\\roman\\anaconda3\\envs\\news\\lib\\site-packages\\sklearn\\utils\\validation.py:1858: FutureWarning: Feature names only support names that are all strings. Got feature names with dtypes: ['int', 'str']. An error will be raised in 1.2.\n",
      "  warnings.warn(\n"
     ]
    }
   ],
   "source": [
    "# Убираем дисбаланс, обучая на нескольких сэмплах несколько логистических регрессий\n",
    "dict_models = {}\n",
    "\n",
    "for i in range(n_splits - 1): # Оставляем последнюю часть для валидации\n",
    "    target_0 = X_df[(X_df['target'] == 0) & (X_df['splits'] == i)].sample(n = X_df['target'].value_counts()[1], axis = 0)\n",
    "    target_1 = X_df[X_df['target'] == 1]\n",
    "\n",
    "    target_sampled = pd.concat([target_0, target_1], axis = 0)\n",
    "\n",
    "    y = target_sampled['target']\n",
    "    X = target_sampled.drop('target', axis = 1)\n",
    "\n",
    "    X_train, X_test, y_train, y_test = train_test_split(X, y, test_size=0.2, random_state=42, stratify=y)\n",
    "\n",
    "    model = LogisticRegression(max_iter = 10000, verbose = 1, n_jobs = -1)\n",
    "    model.fit(X_train, y_train)\n",
    "    preds = model.predict(X_test)\n",
    "    print(classification_report(y_test, preds))\n",
    "\n",
    "    # Сохраняем в словарь для сохранения в pickle\n",
    "    dict_models[i] = model\n",
    "\n",
    "    del model"
   ]
  },
  {
   "cell_type": "code",
   "execution_count": 19,
   "metadata": {},
   "outputs": [
    {
     "name": "stderr",
     "output_type": "stream",
     "text": [
      "c:\\Users\\roman\\anaconda3\\envs\\news\\lib\\site-packages\\sklearn\\utils\\validation.py:1858: FutureWarning: Feature names only support names that are all strings. Got feature names with dtypes: ['int', 'str']. An error will be raised in 1.2.\n",
      "  warnings.warn(\n",
      "c:\\Users\\roman\\anaconda3\\envs\\news\\lib\\site-packages\\sklearn\\utils\\validation.py:1858: FutureWarning: Feature names only support names that are all strings. Got feature names with dtypes: ['int', 'str']. An error will be raised in 1.2.\n",
      "  warnings.warn(\n",
      "c:\\Users\\roman\\anaconda3\\envs\\news\\lib\\site-packages\\sklearn\\utils\\validation.py:1858: FutureWarning: Feature names only support names that are all strings. Got feature names with dtypes: ['int', 'str']. An error will be raised in 1.2.\n",
      "  warnings.warn(\n",
      "c:\\Users\\roman\\anaconda3\\envs\\news\\lib\\site-packages\\sklearn\\utils\\validation.py:1858: FutureWarning: Feature names only support names that are all strings. Got feature names with dtypes: ['int', 'str']. An error will be raised in 1.2.\n",
      "  warnings.warn(\n",
      "c:\\Users\\roman\\anaconda3\\envs\\news\\lib\\site-packages\\sklearn\\utils\\validation.py:1858: FutureWarning: Feature names only support names that are all strings. Got feature names with dtypes: ['int', 'str']. An error will be raised in 1.2.\n",
      "  warnings.warn(\n",
      "c:\\Users\\roman\\anaconda3\\envs\\news\\lib\\site-packages\\sklearn\\utils\\validation.py:1858: FutureWarning: Feature names only support names that are all strings. Got feature names with dtypes: ['int', 'str']. An error will be raised in 1.2.\n",
      "  warnings.warn(\n",
      "[Parallel(n_jobs=-1)]: Using backend LokyBackend with 8 concurrent workers.\n"
     ]
    },
    {
     "name": "stdout",
     "output_type": "stream",
     "text": [
      "              precision    recall  f1-score   support\n",
      "\n",
      "         0.0       0.91      0.91      0.91       832\n",
      "         1.0       0.91      0.91      0.91       831\n",
      "\n",
      "    accuracy                           0.91      1663\n",
      "   macro avg       0.91      0.91      0.91      1663\n",
      "weighted avg       0.91      0.91      0.91      1663\n",
      "\n"
     ]
    },
    {
     "name": "stderr",
     "output_type": "stream",
     "text": [
      "[Parallel(n_jobs=-1)]: Done   1 out of   1 | elapsed:    0.5s finished\n"
     ]
    },
    {
     "data": {
      "text/plain": [
       "{0: LogisticRegression(max_iter=10000, n_jobs=-1, verbose=1),\n",
       " 1: LogisticRegression(max_iter=10000, n_jobs=-1, verbose=1),\n",
       " 2: LogisticRegression(max_iter=10000, n_jobs=-1, verbose=1),\n",
       " 'total': LogisticRegression(max_iter=10000, n_jobs=-1, verbose=1)}"
      ]
     },
     "execution_count": 19,
     "metadata": {},
     "output_type": "execute_result"
    }
   ],
   "source": [
    "# На основе всех обученных логрегов учим предсказывать конечный результат c помощью еще одной логистической регресси\n",
    "\n",
    "target_0 = X_df[(X_df['target'] == 0) & (X_df['splits'] == (n_splits - 1))].sample(n = X_df['target'].value_counts()[1], axis = 0)\n",
    "target_1 = X_df[X_df['target'] == 1]\n",
    "\n",
    "target_sampled = pd.concat([target_0, target_1], axis = 0)\n",
    "\n",
    "y = target_sampled['target']\n",
    "X = target_sampled.drop('target', axis = 1)\n",
    "\n",
    "X_train, X_test, y_train, y_test = train_test_split(X, y, test_size=0.2, random_state=42, stratify=y)\n",
    "\n",
    "logreg_number = 0\n",
    "df_train_logregs = pd.DataFrame()\n",
    "df_test_logregs = pd.DataFrame()\n",
    "\n",
    "for model_id in dict_models:\n",
    "\n",
    "    predicts_train = dict_models[model_id].predict(X_train)\n",
    "    df_train_logregs[logreg_number] = predicts_train\n",
    "\n",
    "    predicts_test = dict_models[model_id].predict(X_test)\n",
    "    df_test_logregs[logreg_number] = predicts_test\n",
    "\n",
    "    logreg_number += 1\n",
    "\n",
    "model = LogisticRegression(max_iter = 10000, verbose = 1, n_jobs = -1)\n",
    "model.fit(df_train_logregs, y_train)\n",
    "preds = model.predict(df_test_logregs)\n",
    "print(classification_report(y_test, preds))\n",
    "\n",
    "dict_models['total'] = model\n",
    "dict_models"
   ]
  },
  {
   "cell_type": "code",
   "execution_count": 20,
   "metadata": {},
   "outputs": [],
   "source": [
    "# Сохраняем все обученные модели\n",
    "\n",
    "with open(f'./data/users/{user_id}/models.pickle', 'wb') as handle:\n",
    "    pickle.dump(dict_models, handle, protocol=pickle.HIGHEST_PROTOCOL)"
   ]
  }
 ],
 "metadata": {
  "kernelspec": {
   "display_name": "Python 3.10.6 ('newsbot')",
   "language": "python",
   "name": "python3"
  },
  "language_info": {
   "codemirror_mode": {
    "name": "ipython",
    "version": 3
   },
   "file_extension": ".py",
   "mimetype": "text/x-python",
   "name": "python",
   "nbconvert_exporter": "python",
   "pygments_lexer": "ipython3",
   "version": "3.10.6"
  },
  "vscode": {
   "interpreter": {
    "hash": "e79cca8bc6b68d3659cd4c6b6d362a60c017cc9a1fc37d9ad8c0d01da44721a5"
   }
  }
 },
 "nbformat": 4,
 "nbformat_minor": 2
}
