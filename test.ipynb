{
 "cells": [
  {
   "cell_type": "code",
   "execution_count": 3,
   "metadata": {},
   "outputs": [
    {
     "data": {
      "text/plain": [
       "' Как в итоге работает решение?\\n\\n1. Я обучаю каждый раз модели логрега на основе идентификатора пользователя. Это можно делать ночью. Нужно ли это делать каждый раз? Да, так как новости меняются. Исследовать.\\n2. На выходе полученной функции я получаю словарь моделей, который можно переиспользовать в боте, как часть алгоритма получения валидации новости для каждого пользователя.\\n3. Если аппроксимируемый класс модели == 1, то новость выводить, она положительная. Если == 0, то не выводить, так как она отрицальная. \\n4. Нужно мониторить результат обучения модели. Возомжно стоит определить, когда модели нужно начинать обучаться. Спустя какое количество классов?\\n\\n'"
      ]
     },
     "execution_count": 3,
     "metadata": {},
     "output_type": "execute_result"
    }
   ],
   "source": [
    "# Предусмотреть возможность перераспределения классов. Так как классов может быть равное количество, не будет необходимости обучать несколько моделей.\n",
    "# При этом важно отметить, что может быть наборот. Какой-то из классов имеет меньший обхем и это нужно определять.\n",
    "\n",
    "# Нужны ограничения на количество обучаемых моделей. Если отношение слишком велико? Может ли быть такое?\n",
    "\n",
    "''' Как в итоге работает решение?\n",
    "\n",
    "1. Я обучаю каждый раз модели логрега на основе идентификатора пользователя. Это можно делать ночью. Нужно ли это делать каждый раз? Да, так как новости меняются. Исследовать.\n",
    "2. На выходе полученной функции я получаю словарь моделей, который можно переиспользовать в боте, как часть алгоритма получения валидации новости для каждого пользователя.\n",
    "3. Если аппроксимируемый класс модели == 1, то новость выводить, она положительная. Если == 0, то не выводить, так как она отрицальная. \n",
    "4. Нужно мониторить результат обучения модели. Возомжно стоит определить, когда модели нужно начинать обучаться. Спустя какое количество классов?\n",
    "\n",
    "'''"
   ]
  },
  {
   "cell_type": "code",
   "execution_count": 1,
   "metadata": {},
   "outputs": [],
   "source": [
    "import json\n",
    "from ddl import cos_distance\n",
    "import numpy as np\n",
    "\n",
    "import pandas as pd"
   ]
  },
  {
   "cell_type": "code",
   "execution_count": 2,
   "metadata": {},
   "outputs": [],
   "source": [
    "from sklearn.model_selection import train_test_split\n",
    "from sklearn.metrics import classification_report\n",
    "\n",
    "from sklearn.linear_model import LogisticRegression"
   ]
  },
  {
   "cell_type": "code",
   "execution_count": 3,
   "metadata": {},
   "outputs": [],
   "source": [
    "from tensorflow import keras\n",
    "from tensorflow.keras import layers"
   ]
  },
  {
   "cell_type": "code",
   "execution_count": 4,
   "metadata": {},
   "outputs": [],
   "source": [
    "import pickle"
   ]
  },
  {
   "cell_type": "code",
   "execution_count": null,
   "metadata": {},
   "outputs": [],
   "source": []
  },
  {
   "cell_type": "code",
   "execution_count": 5,
   "metadata": {},
   "outputs": [],
   "source": [
    "user_id = 196572670\n",
    "model = keras.models.load_model(f'./data/users/{user_id}/model')"
   ]
  },
  {
   "cell_type": "code",
   "execution_count": 6,
   "metadata": {},
   "outputs": [],
   "source": [
    "with open(f'./data/users/{user_id}/embeddings_{user_id}.json', 'r') as f:\n",
    "    data = json.load(f)"
   ]
  },
  {
   "cell_type": "code",
   "execution_count": 7,
   "metadata": {},
   "outputs": [
    {
     "name": "stdout",
     "output_type": "stream",
     "text": [
      "1/1 [==============================] - 1s 694ms/step\n"
     ]
    },
    {
     "data": {
      "text/plain": [
       "array([[9.485419e-06]], dtype=float32)"
      ]
     },
     "execution_count": 7,
     "metadata": {},
     "output_type": "execute_result"
    }
   ],
   "source": [
    "user_id = 196572670\n",
    "model = keras.models.load_model(f'./data/users/{user_id}/model')\n",
    "model.predict([data['4620a45c0435d98553ba6abea562334e']['news_embedding']])"
   ]
  },
  {
   "cell_type": "code",
   "execution_count": 8,
   "metadata": {},
   "outputs": [],
   "source": [
    "from model import predict"
   ]
  },
  {
   "cell_type": "code",
   "execution_count": 2,
   "metadata": {},
   "outputs": [],
   "source": [
    "\n",
    "sources = [\"rbc\", \"lenta\", \"ria\", \"habr\"]"
   ]
  },
  {
   "cell_type": "code",
   "execution_count": 1,
   "metadata": {},
   "outputs": [],
   "source": [
    "def train_model(user_id, sources):\n",
    "\n",
    "    data_vectors = {}\n",
    "    matching_cos_distance = []\n",
    "    potential_positive_samples = []\n",
    "\n",
    "    # Загружаем все новости в оперативку\n",
    "    for where_from in sources:\n",
    "        with open(f'./data/vectors/vectors_news_{where_from}.json', 'r') as f:\n",
    "            temp = json.load(f)\n",
    "            for i in temp:\n",
    "                data_vectors[i] = temp[i]\n",
    "\n",
    "    # Открываем все реакции человека на новости\n",
    "    with open(f'./data/users/{user_id}/embeddings_{user_id}.json', 'r') as f:\n",
    "        data = json.load(f)\n",
    "\n",
    "    # Находим отличия от отрицальных новостей \n",
    "    negative_set = [id for id in data.keys() if data[id]['target'] == '0']\n",
    "    all_set = set(data_vectors.keys())\n",
    "    not_negative_set = all_set ^ set(negative_set)\n",
    "\n",
    "    print(len(negative_set), len(not_negative_set))\n",
    "\n",
    "    # Сравнение потенциальных положительных новостей со всеми новостями, поиск самых близких негативных к ним\n",
    "    c = 0\n",
    "    for id in negative_set:\n",
    "        for id_all in not_negative_set:\n",
    "            matching_cos_distance.append(cos_distance(np.array(data_vectors[id]['news_embedding']), np.array(data_vectors[id_all]['news_embedding'])))\n",
    "            potential_positive_samples.append(id_all)\n",
    "\n",
    "            c += 1\n",
    "            if c % 1_000_000 == 0:\n",
    "                print(c, end = '\\r')\n",
    "\n",
    "    # Определяем позитивные новости из существующей разметки пользователя\n",
    "    positive_samples = []\n",
    "    positive_set = [id for id in data.keys() if data[id]['target'] == '1']\n",
    "\n",
    "    negative_list_std = []\n",
    "\n",
    "    # Считаем отклонение для определения параметра отбора позитивных новостей, которые понравились\n",
    "    matching_std = np.std(matching_cos_distance)\n",
    "    matching_mean = np.mean(matching_cos_distance)\n",
    "\n",
    "    # Ищем позитивные для человека новости, потенциально это все новости, что меньше (среднее по всем сравнениям + 1 стандартное отклонение)\n",
    "    for item in zip(potential_positive_samples, matching_cos_distance):\n",
    "        if item[1] >= (matching_mean + 2 * matching_std):\n",
    "            negative_list_std.append(item[0])\n",
    "\n",
    "    # Вычитаем из позитивных потенциальных негативные относительно стандартного отклонения\n",
    "    positive_samples = set(potential_positive_samples) - set(negative_list_std)\n",
    "    # Расширяем сет размеченных позитивных позитивными потенциально\n",
    "    positive_set.extend(positive_samples)\n",
    "\n",
    "    # Сколько позитивных у нас получилось\n",
    "    print(len(positive_set))\n",
    "    # Проверяем, есть ли у нас пересечения между позитивными и негативными (не должно быть совсем)\n",
    "    print(len(set(negative_list_std) & set(positive_set)))\n",
    "\n",
    "    # Получаем эмбеддинги каждого позитивного и негативного случая\n",
    "    positive_embeddings = []\n",
    "    negative_embeddings = []\n",
    "\n",
    "    for id in positive_set:\n",
    "        positive_embeddings.append(data_vectors[id]['news_embedding'])\n",
    "\n",
    "    for id in set(negative_list_std):\n",
    "        negative_embeddings.append(data_vectors[id]['news_embedding'])\n",
    "\n",
    "    # Превращаем в numpy все вектора позитивных и отрциательных новостей\n",
    "\n",
    "    positive_embeddings_array = np.array(positive_embeddings)\n",
    "    negative_embeddings_array = np.array(negative_embeddings)\n",
    "\n",
    "    # Смотрим какой shape для каждого\n",
    "    print(positive_embeddings_array.shape, negative_embeddings_array.shape)\n",
    "\n",
    "    # Заполняем 0 и 1 каждый из отрицательных и положительных новостей\n",
    "    ones_array = np.ones((positive_embeddings_array.shape[0],1))\n",
    "    zeros_array = np.zeros((negative_embeddings_array.shape[0],1))\n",
    "\n",
    "    # Собираем все воедино в датасет\n",
    "    a = np.hstack((positive_embeddings_array, ones_array))\n",
    "    b = np.hstack((negative_embeddings_array, zeros_array))\n",
    "    X_np = np.vstack((a, b))\n",
    "\n",
    "    # Затем обучаем модель искать такие или относить к негативным все остальные новости\n",
    "    X_df = pd.DataFrame(X_np).rename({300:'target'}, axis = 1)\n",
    "\n",
    "    # Получаем количество сэмплов для разделения наибольшего класса\n",
    "\n",
    "    n_splits = X_df['target'].value_counts()[0] // X_df['target'].value_counts()[1]\n",
    "\n",
    "    X_df['splits'] = X_df.index % n_splits\n",
    "\n",
    "    target_0 = X_df[(X_df['target'] == 0)].sample(n = X_df['target'].value_counts()[1], axis = 0)\n",
    "    target_1 = X_df[X_df['target'] == 1]\n",
    "\n",
    "    target_sampled = pd.concat([target_0, target_1], axis = 0)\n",
    "\n",
    "    y = target_sampled['target']\n",
    "    X = target_sampled.drop(['target', 'splits'], axis = 1)\n",
    "\n",
    "    X_train, X_test, y_train, y_test = train_test_split(X, y, test_size=0.2, random_state=42, stratify=y)\n",
    "\n",
    "    model = keras.Sequential(\n",
    "        [   \n",
    "            layers.Dense(128, activation=\"relu\"),\n",
    "            layers.Dense(32, activation=\"relu\"),\n",
    "            layers.Dense(1, activation=\"sigmoid\"),\n",
    "        ]\n",
    "    )\n",
    "\n",
    "    model.compile(loss=\"binary_crossentropy\", optimizer = keras.optimizers.Adam(learning_rate=0.0001), metrics=[keras.metrics.BinaryAccuracy()])\n",
    "\n",
    "    model.fit(X_train, y_train, epochs=50, batch_size = 32, validation_data=(X_test, y_test))\n",
    "\n",
    "    preds_sigm = model.predict(X_test)\n",
    "    preds = (preds_sigm >= 0.5) * 1\n",
    "\n",
    "    print(classification_report(y_test, preds))\n",
    "\n",
    "    # Сохраняем все обученные модели\n",
    "\n",
    "    model.save(f'./data/users/{user_id}/model')\n",
    "\n",
    "    print('Модель успешно сохранена')"
   ]
  },
  {
   "cell_type": "code",
   "execution_count": 8,
   "metadata": {},
   "outputs": [
    {
     "name": "stdout",
     "output_type": "stream",
     "text": [
      "6741\n",
      "2\n",
      "(6741, 300) (16188, 300)\n"
     ]
    }
   ],
   "source": []
  },
  {
   "cell_type": "code",
   "execution_count": 18,
   "metadata": {},
   "outputs": [
    {
     "name": "stderr",
     "output_type": "stream",
     "text": [
      "c:\\Users\\roman\\anaconda3\\envs\\news\\lib\\site-packages\\sklearn\\utils\\validation.py:1858: FutureWarning: Feature names only support names that are all strings. Got feature names with dtypes: ['int', 'str']. An error will be raised in 1.2.\n",
      "  warnings.warn(\n",
      "[Parallel(n_jobs=-1)]: Using backend LokyBackend with 8 concurrent workers.\n",
      "[Parallel(n_jobs=-1)]: Done   1 out of   1 | elapsed:    4.8s finished\n",
      "c:\\Users\\roman\\anaconda3\\envs\\news\\lib\\site-packages\\sklearn\\utils\\validation.py:1858: FutureWarning: Feature names only support names that are all strings. Got feature names with dtypes: ['int', 'str']. An error will be raised in 1.2.\n",
      "  warnings.warn(\n",
      "c:\\Users\\roman\\anaconda3\\envs\\news\\lib\\site-packages\\sklearn\\utils\\validation.py:1858: FutureWarning: Feature names only support names that are all strings. Got feature names with dtypes: ['int', 'str']. An error will be raised in 1.2.\n",
      "  warnings.warn(\n",
      "[Parallel(n_jobs=-1)]: Using backend LokyBackend with 8 concurrent workers.\n"
     ]
    },
    {
     "name": "stdout",
     "output_type": "stream",
     "text": [
      "              precision    recall  f1-score   support\n",
      "\n",
      "         0.0       0.89      0.92      0.91       832\n",
      "         1.0       0.92      0.89      0.90       831\n",
      "\n",
      "    accuracy                           0.90      1663\n",
      "   macro avg       0.90      0.90      0.90      1663\n",
      "weighted avg       0.90      0.90      0.90      1663\n",
      "\n"
     ]
    },
    {
     "name": "stderr",
     "output_type": "stream",
     "text": [
      "[Parallel(n_jobs=-1)]: Done   1 out of   1 | elapsed:    2.7s finished\n",
      "c:\\Users\\roman\\anaconda3\\envs\\news\\lib\\site-packages\\sklearn\\utils\\validation.py:1858: FutureWarning: Feature names only support names that are all strings. Got feature names with dtypes: ['int', 'str']. An error will be raised in 1.2.\n",
      "  warnings.warn(\n",
      "c:\\Users\\roman\\anaconda3\\envs\\news\\lib\\site-packages\\sklearn\\utils\\validation.py:1858: FutureWarning: Feature names only support names that are all strings. Got feature names with dtypes: ['int', 'str']. An error will be raised in 1.2.\n",
      "  warnings.warn(\n",
      "[Parallel(n_jobs=-1)]: Using backend LokyBackend with 8 concurrent workers.\n"
     ]
    },
    {
     "name": "stdout",
     "output_type": "stream",
     "text": [
      "              precision    recall  f1-score   support\n",
      "\n",
      "         0.0       0.88      0.86      0.87       832\n",
      "         1.0       0.86      0.88      0.87       831\n",
      "\n",
      "    accuracy                           0.87      1663\n",
      "   macro avg       0.87      0.87      0.87      1663\n",
      "weighted avg       0.87      0.87      0.87      1663\n",
      "\n"
     ]
    },
    {
     "name": "stderr",
     "output_type": "stream",
     "text": [
      "[Parallel(n_jobs=-1)]: Done   1 out of   1 | elapsed:    3.3s finished\n"
     ]
    },
    {
     "name": "stdout",
     "output_type": "stream",
     "text": [
      "              precision    recall  f1-score   support\n",
      "\n",
      "         0.0       0.89      0.86      0.87       832\n",
      "         1.0       0.86      0.89      0.88       831\n",
      "\n",
      "    accuracy                           0.88      1663\n",
      "   macro avg       0.88      0.88      0.88      1663\n",
      "weighted avg       0.88      0.88      0.88      1663\n",
      "\n"
     ]
    },
    {
     "name": "stderr",
     "output_type": "stream",
     "text": [
      "c:\\Users\\roman\\anaconda3\\envs\\news\\lib\\site-packages\\sklearn\\utils\\validation.py:1858: FutureWarning: Feature names only support names that are all strings. Got feature names with dtypes: ['int', 'str']. An error will be raised in 1.2.\n",
      "  warnings.warn(\n"
     ]
    }
   ],
   "source": [
    "# Убираем дисбаланс, обучая на нескольких сэмплах несколько логистических регрессий\n",
    "dict_models = {}\n",
    "\n",
    "for i in range(n_splits - 1): # Оставляем последнюю часть для валидации\n",
    "    target_0 = X_df[(X_df['target'] == 0) & (X_df['splits'] == i)].sample(n = X_df['target'].value_counts()[1], axis = 0)\n",
    "    target_1 = X_df[X_df['target'] == 1]\n",
    "\n",
    "    target_sampled = pd.concat([target_0, target_1], axis = 0)\n",
    "\n",
    "    y = target_sampled['target']\n",
    "    X = target_sampled.drop('target', axis = 1)\n",
    "\n",
    "    X_train, X_test, y_train, y_test = train_test_split(X, y, test_size=0.2, random_state=42, stratify=y)\n",
    "\n",
    "    model = LogisticRegression(max_iter = 10000, verbose = 1, n_jobs = -1)\n",
    "    model.fit(X_train, y_train)\n",
    "    preds = model.predict(X_test)\n",
    "    print(classification_report(y_test, preds))\n",
    "\n",
    "    # Сохраняем в словарь для сохранения в pickle\n",
    "    dict_models[i] = model\n",
    "\n",
    "    del model"
   ]
  },
  {
   "cell_type": "code",
   "execution_count": 19,
   "metadata": {},
   "outputs": [
    {
     "name": "stderr",
     "output_type": "stream",
     "text": [
      "c:\\Users\\roman\\anaconda3\\envs\\news\\lib\\site-packages\\sklearn\\utils\\validation.py:1858: FutureWarning: Feature names only support names that are all strings. Got feature names with dtypes: ['int', 'str']. An error will be raised in 1.2.\n",
      "  warnings.warn(\n",
      "c:\\Users\\roman\\anaconda3\\envs\\news\\lib\\site-packages\\sklearn\\utils\\validation.py:1858: FutureWarning: Feature names only support names that are all strings. Got feature names with dtypes: ['int', 'str']. An error will be raised in 1.2.\n",
      "  warnings.warn(\n",
      "c:\\Users\\roman\\anaconda3\\envs\\news\\lib\\site-packages\\sklearn\\utils\\validation.py:1858: FutureWarning: Feature names only support names that are all strings. Got feature names with dtypes: ['int', 'str']. An error will be raised in 1.2.\n",
      "  warnings.warn(\n",
      "c:\\Users\\roman\\anaconda3\\envs\\news\\lib\\site-packages\\sklearn\\utils\\validation.py:1858: FutureWarning: Feature names only support names that are all strings. Got feature names with dtypes: ['int', 'str']. An error will be raised in 1.2.\n",
      "  warnings.warn(\n",
      "c:\\Users\\roman\\anaconda3\\envs\\news\\lib\\site-packages\\sklearn\\utils\\validation.py:1858: FutureWarning: Feature names only support names that are all strings. Got feature names with dtypes: ['int', 'str']. An error will be raised in 1.2.\n",
      "  warnings.warn(\n",
      "c:\\Users\\roman\\anaconda3\\envs\\news\\lib\\site-packages\\sklearn\\utils\\validation.py:1858: FutureWarning: Feature names only support names that are all strings. Got feature names with dtypes: ['int', 'str']. An error will be raised in 1.2.\n",
      "  warnings.warn(\n",
      "[Parallel(n_jobs=-1)]: Using backend LokyBackend with 8 concurrent workers.\n"
     ]
    },
    {
     "name": "stdout",
     "output_type": "stream",
     "text": [
      "              precision    recall  f1-score   support\n",
      "\n",
      "         0.0       0.91      0.91      0.91       832\n",
      "         1.0       0.91      0.91      0.91       831\n",
      "\n",
      "    accuracy                           0.91      1663\n",
      "   macro avg       0.91      0.91      0.91      1663\n",
      "weighted avg       0.91      0.91      0.91      1663\n",
      "\n"
     ]
    },
    {
     "name": "stderr",
     "output_type": "stream",
     "text": [
      "[Parallel(n_jobs=-1)]: Done   1 out of   1 | elapsed:    0.5s finished\n"
     ]
    },
    {
     "data": {
      "text/plain": [
       "{0: LogisticRegression(max_iter=10000, n_jobs=-1, verbose=1),\n",
       " 1: LogisticRegression(max_iter=10000, n_jobs=-1, verbose=1),\n",
       " 2: LogisticRegression(max_iter=10000, n_jobs=-1, verbose=1),\n",
       " 'total': LogisticRegression(max_iter=10000, n_jobs=-1, verbose=1)}"
      ]
     },
     "execution_count": 19,
     "metadata": {},
     "output_type": "execute_result"
    }
   ],
   "source": [
    "# На основе всех обученных логрегов учим предсказывать конечный результат c помощью еще одной логистической регресси\n",
    "\n",
    "target_0 = X_df[(X_df['target'] == 0) & (X_df['splits'] == (n_splits - 1))].sample(n = X_df['target'].value_counts()[1], axis = 0)\n",
    "target_1 = X_df[X_df['target'] == 1]\n",
    "\n",
    "target_sampled = pd.concat([target_0, target_1], axis = 0)\n",
    "\n",
    "y = target_sampled['target']\n",
    "X = target_sampled.drop('target', axis = 1)\n",
    "\n",
    "X_train, X_test, y_train, y_test = train_test_split(X, y, test_size=0.2, random_state=42, stratify=y)\n",
    "\n",
    "logreg_number = 0\n",
    "df_train_logregs = pd.DataFrame()\n",
    "df_test_logregs = pd.DataFrame()\n",
    "\n",
    "for model_id in dict_models:\n",
    "\n",
    "    predicts_train = dict_models[model_id].predict(X_train)\n",
    "    df_train_logregs[logreg_number] = predicts_train\n",
    "\n",
    "    predicts_test = dict_models[model_id].predict(X_test)\n",
    "    df_test_logregs[logreg_number] = predicts_test\n",
    "\n",
    "    logreg_number += 1\n",
    "\n",
    "model = LogisticRegression(max_iter = 10000, verbose = 1, n_jobs = -1)\n",
    "model.fit(df_train_logregs, y_train)\n",
    "preds = model.predict(df_test_logregs)\n",
    "print(classification_report(y_test, preds))\n",
    "\n",
    "dict_models['total'] = model\n",
    "dict_models"
   ]
  },
  {
   "cell_type": "code",
   "execution_count": 20,
   "metadata": {},
   "outputs": [],
   "source": [
    "# Сохраняем все обученные модели\n",
    "\n",
    "with open(f'./data/users/{user_id}/models.pickle', 'wb') as handle:\n",
    "    pickle.dump(dict_models, handle, protocol=pickle.HIGHEST_PROTOCOL)"
   ]
  },
  {
   "cell_type": "code",
   "execution_count": null,
   "metadata": {},
   "outputs": [],
   "source": []
  },
  {
   "cell_type": "code",
   "execution_count": 1,
   "metadata": {},
   "outputs": [
    {
     "name": "stderr",
     "output_type": "stream",
     "text": [
      "[nltk_data] Downloading package stopwords to\n",
      "[nltk_data]     C:\\Users\\roman\\AppData\\Roaming\\nltk_data...\n",
      "[nltk_data]   Package stopwords is already up-to-date!\n"
     ]
    }
   ],
   "source": [
    "import os, json\n",
    "import numpy as np\n",
    "\n",
    "from razdel import tokenize\n",
    "from ddl import cos_distance\n",
    "from navec import Navec\n",
    "\n",
    "import nltk\n",
    "from nltk.corpus import stopwords\n",
    "\n",
    "from natasha import (\n",
    "    Segmenter,\n",
    "    MorphVocab,\n",
    "    \n",
    "    NewsEmbedding,\n",
    "    NewsMorphTagger,\n",
    "    NewsSyntaxParser,\n",
    "    NewsNERTagger,\n",
    "    \n",
    "    PER,\n",
    "    NamesExtractor,\n",
    "\n",
    "    Doc\n",
    ")\n",
    "\n",
    "segmenter = Segmenter()\n",
    "morph_vocab = MorphVocab()\n",
    "emb = NewsEmbedding()\n",
    "morph_tagger = NewsMorphTagger(emb)\n",
    "syntax_parser = NewsSyntaxParser(emb)\n",
    "ner_tagger = NewsNERTagger(emb)\n",
    "names_extractor = NamesExtractor(morph_vocab)\n",
    "\n",
    "nltk.download('stopwords')\n",
    "stops = set(stopwords.words('russian'))\n",
    "\n",
    "path = r\".\\data\\vectors\\navec_news_v1_1B_250K_300d_100q.tar\"  # 51MB\n",
    "navec = Navec.load(path)  # ~1 sec, ~100MB RAM"
   ]
  },
  {
   "cell_type": "code",
   "execution_count": 2,
   "metadata": {},
   "outputs": [],
   "source": [
    "with open(f'./sources.json', 'r', encoding = 'utf-8') as f:\n",
    "    sources = json.load(f)['list']\n",
    "\n",
    "def get_tokens(string):\n",
    "    tokens = list(tokenize(string))\n",
    "    return [_.text for _ in tokens]"
   ]
  },
  {
   "cell_type": "code",
   "execution_count": 3,
   "metadata": {},
   "outputs": [],
   "source": [
    "def to_navec(phrase):\n",
    "\n",
    "    phrase_low = phrase.lower()\n",
    "    tokens = get_tokens(phrase_low)\n",
    "\n",
    "    s = navec.get('<pad>')\n",
    "\n",
    "    for tok in tokens:\n",
    "        if tok in navec:\n",
    "            s += navec.get(tok)\n",
    "        else:\n",
    "            s += navec.get('<unk>')\n",
    "\n",
    "    return s"
   ]
  },
  {
   "cell_type": "code",
   "execution_count": 4,
   "metadata": {},
   "outputs": [],
   "source": [
    "from model import predict"
   ]
  },
  {
   "cell_type": "code",
   "execution_count": 54,
   "metadata": {},
   "outputs": [],
   "source": [
    "def get_message_rule(news_title, user_id):\n",
    "\n",
    "    if f'{user_id}' in os.listdir(os.getcwd() + f'\\\\data\\\\users\\\\'):\n",
    "\n",
    "        news_title_emb = to_navec(news_title)\n",
    "\n",
    "        answer = predict(user_id, news_title_emb.reshape((1,-1)))[0][0]\n",
    "\n",
    "        if answer >= 0.5:\n",
    "            return 1, news_title_emb\n",
    "        else:\n",
    "            return 0, None\n",
    "\n",
    "    else:\n",
    "        return -1, None"
   ]
  },
  {
   "cell_type": "code",
   "execution_count": 58,
   "metadata": {},
   "outputs": [
    {
     "name": "stdout",
     "output_type": "stream",
     "text": [
      "1/1 [==============================] - 0s 47ms/step\n"
     ]
    },
    {
     "data": {
      "text/plain": [
       "(0, None)"
      ]
     },
     "execution_count": 58,
     "metadata": {},
     "output_type": "execute_result"
    }
   ],
   "source": [
    "news_title = 'Путин провозгласил чемпионат России главным событием года'\n",
    "user_id = 196572670\n",
    "\n",
    "get_message_rule(news_title, user_id)"
   ]
  },
  {
   "cell_type": "code",
   "execution_count": 1,
   "metadata": {},
   "outputs": [],
   "source": [
    "from model import train_model"
   ]
  },
  {
   "cell_type": "code",
   "execution_count": 2,
   "metadata": {},
   "outputs": [],
   "source": [
    "sources = [\"rbc\", \"lenta\", \"ria\", \"habr\"]"
   ]
  },
  {
   "cell_type": "code",
   "execution_count": 6,
   "metadata": {},
   "outputs": [
    {
     "name": "stdout",
     "output_type": "stream",
     "text": [
      "511 22970\n",
      "55660000\n",
      "0\n",
      "(5566, 300) (17405, 300)\n",
      "Epoch 1/50\n",
      "279/279 [==============================] - 2s 7ms/step - loss: 0.5580 - binary_accuracy: 0.7093 - val_loss: 0.4351 - val_binary_accuracy: 0.7993\n",
      "Epoch 2/50\n",
      "279/279 [==============================] - 2s 6ms/step - loss: 0.3738 - binary_accuracy: 0.8286 - val_loss: 0.3689 - val_binary_accuracy: 0.8388\n",
      "Epoch 3/50\n",
      "279/279 [==============================] - 2s 6ms/step - loss: 0.3210 - binary_accuracy: 0.8608 - val_loss: 0.3434 - val_binary_accuracy: 0.8518\n",
      "Epoch 4/50\n",
      "279/279 [==============================] - 2s 6ms/step - loss: 0.2915 - binary_accuracy: 0.8787 - val_loss: 0.3306 - val_binary_accuracy: 0.8572\n",
      "Epoch 5/50\n",
      "279/279 [==============================] - 2s 6ms/step - loss: 0.2700 - binary_accuracy: 0.8893 - val_loss: 0.3226 - val_binary_accuracy: 0.8635\n",
      "Epoch 6/50\n",
      "279/279 [==============================] - 2s 6ms/step - loss: 0.2540 - binary_accuracy: 0.8987 - val_loss: 0.3171 - val_binary_accuracy: 0.8617\n",
      "Epoch 7/50\n",
      "279/279 [==============================] - 2s 6ms/step - loss: 0.2392 - binary_accuracy: 0.9041 - val_loss: 0.3124 - val_binary_accuracy: 0.8635\n",
      "Epoch 8/50\n",
      "279/279 [==============================] - 2s 6ms/step - loss: 0.2263 - binary_accuracy: 0.9114 - val_loss: 0.3100 - val_binary_accuracy: 0.8639\n",
      "Epoch 9/50\n",
      "279/279 [==============================] - 2s 6ms/step - loss: 0.2143 - binary_accuracy: 0.9170 - val_loss: 0.3085 - val_binary_accuracy: 0.8698\n",
      "Epoch 10/50\n",
      "279/279 [==============================] - 2s 6ms/step - loss: 0.2025 - binary_accuracy: 0.9234 - val_loss: 0.3064 - val_binary_accuracy: 0.8675\n",
      "Epoch 11/50\n",
      "279/279 [==============================] - 2s 7ms/step - loss: 0.1920 - binary_accuracy: 0.9296 - val_loss: 0.3070 - val_binary_accuracy: 0.8743\n",
      "Epoch 12/50\n",
      "279/279 [==============================] - 2s 6ms/step - loss: 0.1807 - binary_accuracy: 0.9358 - val_loss: 0.3074 - val_binary_accuracy: 0.8716\n",
      "Epoch 13/50\n",
      "279/279 [==============================] - 2s 6ms/step - loss: 0.1702 - binary_accuracy: 0.9410 - val_loss: 0.3060 - val_binary_accuracy: 0.8675\n",
      "Epoch 14/50\n",
      "279/279 [==============================] - 2s 6ms/step - loss: 0.1609 - binary_accuracy: 0.9451 - val_loss: 0.3062 - val_binary_accuracy: 0.8680\n",
      "Epoch 15/50\n",
      "279/279 [==============================] - 2s 7ms/step - loss: 0.1510 - binary_accuracy: 0.9486 - val_loss: 0.3062 - val_binary_accuracy: 0.8675\n",
      "Epoch 16/50\n",
      "279/279 [==============================] - 2s 7ms/step - loss: 0.1423 - binary_accuracy: 0.9535 - val_loss: 0.3103 - val_binary_accuracy: 0.8689\n",
      "Epoch 17/50\n",
      "279/279 [==============================] - 2s 7ms/step - loss: 0.1338 - binary_accuracy: 0.9567 - val_loss: 0.3103 - val_binary_accuracy: 0.8716\n",
      "Epoch 18/50\n",
      "279/279 [==============================] - 2s 7ms/step - loss: 0.1248 - binary_accuracy: 0.9600 - val_loss: 0.3129 - val_binary_accuracy: 0.8729\n",
      "Epoch 19/50\n",
      "279/279 [==============================] - 2s 6ms/step - loss: 0.1163 - binary_accuracy: 0.9649 - val_loss: 0.3144 - val_binary_accuracy: 0.8716\n",
      "Epoch 20/50\n",
      "279/279 [==============================] - 2s 7ms/step - loss: 0.1083 - binary_accuracy: 0.9675 - val_loss: 0.3154 - val_binary_accuracy: 0.8765\n",
      "Epoch 21/50\n",
      "279/279 [==============================] - 2s 6ms/step - loss: 0.1008 - binary_accuracy: 0.9714 - val_loss: 0.3199 - val_binary_accuracy: 0.8743\n",
      "Epoch 22/50\n",
      "279/279 [==============================] - 2s 6ms/step - loss: 0.0934 - binary_accuracy: 0.9745 - val_loss: 0.3257 - val_binary_accuracy: 0.8711\n",
      "Epoch 23/50\n",
      "279/279 [==============================] - 2s 6ms/step - loss: 0.0857 - binary_accuracy: 0.9763 - val_loss: 0.3313 - val_binary_accuracy: 0.8711\n",
      "Epoch 24/50\n",
      "279/279 [==============================] - 2s 7ms/step - loss: 0.0790 - binary_accuracy: 0.9805 - val_loss: 0.3384 - val_binary_accuracy: 0.8707\n",
      "Epoch 25/50\n",
      "279/279 [==============================] - 2s 7ms/step - loss: 0.0721 - binary_accuracy: 0.9834 - val_loss: 0.3425 - val_binary_accuracy: 0.8725\n",
      "Epoch 26/50\n",
      "279/279 [==============================] - 2s 7ms/step - loss: 0.0659 - binary_accuracy: 0.9857 - val_loss: 0.3459 - val_binary_accuracy: 0.8747\n",
      "Epoch 27/50\n",
      "279/279 [==============================] - 2s 7ms/step - loss: 0.0602 - binary_accuracy: 0.9876 - val_loss: 0.3482 - val_binary_accuracy: 0.8765\n",
      "Epoch 28/50\n",
      "279/279 [==============================] - 2s 6ms/step - loss: 0.0548 - binary_accuracy: 0.9897 - val_loss: 0.3605 - val_binary_accuracy: 0.8743\n",
      "Epoch 29/50\n",
      "279/279 [==============================] - 2s 7ms/step - loss: 0.0494 - binary_accuracy: 0.9909 - val_loss: 0.3642 - val_binary_accuracy: 0.8743\n",
      "Epoch 30/50\n",
      "279/279 [==============================] - 2s 6ms/step - loss: 0.0446 - binary_accuracy: 0.9937 - val_loss: 0.3742 - val_binary_accuracy: 0.8752\n",
      "Epoch 31/50\n",
      "279/279 [==============================] - 2s 7ms/step - loss: 0.0400 - binary_accuracy: 0.9940 - val_loss: 0.3912 - val_binary_accuracy: 0.8698\n",
      "Epoch 32/50\n",
      "279/279 [==============================] - 2s 6ms/step - loss: 0.0353 - binary_accuracy: 0.9958 - val_loss: 0.3928 - val_binary_accuracy: 0.8734\n",
      "Epoch 33/50\n",
      "279/279 [==============================] - 2s 6ms/step - loss: 0.0321 - binary_accuracy: 0.9963 - val_loss: 0.3959 - val_binary_accuracy: 0.8743\n",
      "Epoch 34/50\n",
      "279/279 [==============================] - 2s 7ms/step - loss: 0.0281 - binary_accuracy: 0.9969 - val_loss: 0.4095 - val_binary_accuracy: 0.8720\n",
      "Epoch 35/50\n",
      "279/279 [==============================] - 2s 7ms/step - loss: 0.0249 - binary_accuracy: 0.9979 - val_loss: 0.4225 - val_binary_accuracy: 0.8734\n",
      "Epoch 36/50\n",
      "279/279 [==============================] - 2s 7ms/step - loss: 0.0220 - binary_accuracy: 0.9984 - val_loss: 0.4349 - val_binary_accuracy: 0.8684\n",
      "Epoch 37/50\n",
      "279/279 [==============================] - 2s 7ms/step - loss: 0.0195 - binary_accuracy: 0.9982 - val_loss: 0.4453 - val_binary_accuracy: 0.8729\n",
      "Epoch 38/50\n",
      "279/279 [==============================] - 2s 7ms/step - loss: 0.0171 - binary_accuracy: 0.9987 - val_loss: 0.4517 - val_binary_accuracy: 0.8720\n",
      "Epoch 39/50\n",
      "279/279 [==============================] - 2s 7ms/step - loss: 0.0150 - binary_accuracy: 0.9989 - val_loss: 0.4615 - val_binary_accuracy: 0.8729\n",
      "Epoch 40/50\n",
      "279/279 [==============================] - 2s 6ms/step - loss: 0.0130 - binary_accuracy: 0.9992 - val_loss: 0.4762 - val_binary_accuracy: 0.8711\n",
      "Epoch 41/50\n",
      "279/279 [==============================] - 2s 6ms/step - loss: 0.0113 - binary_accuracy: 0.9994 - val_loss: 0.4873 - val_binary_accuracy: 0.8711\n",
      "Epoch 42/50\n",
      "279/279 [==============================] - 2s 7ms/step - loss: 0.0099 - binary_accuracy: 0.9994 - val_loss: 0.5038 - val_binary_accuracy: 0.8702\n",
      "Epoch 43/50\n",
      "279/279 [==============================] - 2s 7ms/step - loss: 0.0088 - binary_accuracy: 0.9997 - val_loss: 0.5144 - val_binary_accuracy: 0.8698\n",
      "Epoch 44/50\n",
      "279/279 [==============================] - 2s 7ms/step - loss: 0.0078 - binary_accuracy: 0.9996 - val_loss: 0.5273 - val_binary_accuracy: 0.8702\n",
      "Epoch 45/50\n",
      "279/279 [==============================] - 2s 7ms/step - loss: 0.0064 - binary_accuracy: 0.9998 - val_loss: 0.5456 - val_binary_accuracy: 0.8675\n",
      "Epoch 46/50\n",
      "279/279 [==============================] - 2s 7ms/step - loss: 0.0056 - binary_accuracy: 0.9996 - val_loss: 0.5567 - val_binary_accuracy: 0.8684\n",
      "Epoch 47/50\n",
      "279/279 [==============================] - 2s 7ms/step - loss: 0.0051 - binary_accuracy: 0.9997 - val_loss: 0.5682 - val_binary_accuracy: 0.8716\n",
      "Epoch 48/50\n",
      "279/279 [==============================] - 2s 6ms/step - loss: 0.0042 - binary_accuracy: 0.9997 - val_loss: 0.5801 - val_binary_accuracy: 0.8689\n",
      "Epoch 49/50\n",
      "279/279 [==============================] - 2s 7ms/step - loss: 0.0036 - binary_accuracy: 0.9999 - val_loss: 0.5976 - val_binary_accuracy: 0.8729\n",
      "Epoch 50/50\n",
      "279/279 [==============================] - 2s 7ms/step - loss: 0.0033 - binary_accuracy: 0.9998 - val_loss: 0.6102 - val_binary_accuracy: 0.8680\n",
      "70/70 [==============================] - 0s 2ms/step\n",
      "              precision    recall  f1-score   support\n",
      "\n",
      "         0.0       0.86      0.88      0.87      1114\n",
      "         1.0       0.87      0.86      0.87      1113\n",
      "\n",
      "    accuracy                           0.87      2227\n",
      "   macro avg       0.87      0.87      0.87      2227\n",
      "weighted avg       0.87      0.87      0.87      2227\n",
      "\n",
      "INFO:tensorflow:Assets written to: ./data/users/225693746/model\\assets\n",
      "Модель успешно сохранена\n"
     ]
    }
   ],
   "source": [
    "train_model(225693746, sources)"
   ]
  }
 ],
 "metadata": {
  "kernelspec": {
   "display_name": "Python 3.10.4 ('news')",
   "language": "python",
   "name": "python3"
  },
  "language_info": {
   "codemirror_mode": {
    "name": "ipython",
    "version": 3
   },
   "file_extension": ".py",
   "mimetype": "text/x-python",
   "name": "python",
   "nbconvert_exporter": "python",
   "pygments_lexer": "ipython3",
   "version": "3.10.4"
  },
  "vscode": {
   "interpreter": {
    "hash": "9e20e9e5ef22f0271bfeab641314af8ff21179ec4e0f79deb9ad2792c779deb6"
   }
  }
 },
 "nbformat": 4,
 "nbformat_minor": 2
}
